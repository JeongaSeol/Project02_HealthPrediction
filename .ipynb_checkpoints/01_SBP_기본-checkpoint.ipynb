{
 "cells": [
  {
   "cell_type": "markdown",
   "id": "fa464914",
   "metadata": {},
   "source": [
    "# SBP(수축기혈압) \n",
    "\n",
    "### X변수(기본)\n",
    "- sex : 1(남자), 2(여자)\n",
    "- age : 20세 부터 5세 단위\n",
    "- ht : 5cm단위\n",
    "- wt : 5kg 단위\n",
    "- waist : 허리둘레 cm\n",
    "- bmi \n",
    "- smoking : 1(피우지 않음), 2(피웠다끊음), 3(피우고있음)\n",
    "- alcohol : 0(마시지않음), 1(마심)"
   ]
  },
  {
   "cell_type": "code",
   "execution_count": 58,
   "id": "5fcbf42c",
   "metadata": {},
   "outputs": [],
   "source": [
    "import pandas as pd\n",
    "import numpy as np\n",
    "\n",
    "import warnings\n",
    "warnings.filterwarnings('ignore')\n",
    "\n",
    "import matplotlib.pyplot as plt\n",
    "import seaborn as sns\n",
    "\n",
    "# 시각화 한글 지원\n",
    "from matplotlib import font_manager, rc\n",
    "font_path = \"C:/Windows/Fonts/malgun.ttf\" \n",
    "font = font_manager.FontProperties(fname=font_path).get_name()\n",
    "rc('font', family=font)\n",
    "\n",
    "# 상관계수\n",
    "from scipy import stats\n",
    "\n",
    "# model\n",
    "from sklearn.model_selection import train_test_split\n",
    "from sklearn.linear_model import LinearRegression\n",
    "from sklearn.metrics import mean_squared_error\n",
    "from sklearn.preprocessing import PolynomialFeatures\n",
    "from sklearn.preprocessing import MinMaxScaler\n",
    "from sklearn.preprocessing import StandardScaler"
   ]
  },
  {
   "cell_type": "markdown",
   "id": "f5789c42",
   "metadata": {},
   "source": [
    "## 1. 데이터 불러오기"
   ]
  },
  {
   "cell_type": "code",
   "execution_count": 59,
   "id": "8d706f06",
   "metadata": {},
   "outputs": [
    {
     "data": {
      "text/plain": [
       "Index(['기준년도', '가입자일련번호', '성별코드', '연령대코드(5세단위)', '시도코드', '신장(5Cm단위)',\n",
       "       '체중(5Kg단위)', '허리둘레', '시력(좌)', '시력(우)', '청력(좌)', '청력(우)', '수축기혈압',\n",
       "       '이완기혈압', '식전혈당(공복혈당)', '총콜레스테롤', '트리글리세라이드', 'HDL콜레스테롤', 'LDL콜레스테롤',\n",
       "       '혈색소', '요단백', '혈청크레아티닌', '(혈청지오티)AST', '(혈청지오티)ALT', '감마지티피', '흡연상태',\n",
       "       '음주여부', '구강검진수검여부', '치아우식증유무', '결손치유무', '치아마모증유무', '제3대구치(사랑니)이상', '치석',\n",
       "       '데이터공개일자'],\n",
       "      dtype='object')"
      ]
     },
     "execution_count": 59,
     "metadata": {},
     "output_type": "execute_result"
    }
   ],
   "source": [
    "df = pd.read_csv('C:/Users/sja95/OneDrive/바탕 화면/dataset/건강검진2017.csv', encoding = 'euc-KR')\n",
    "\n",
    "df.columns"
   ]
  },
  {
   "cell_type": "code",
   "execution_count": 60,
   "id": "e1dc1d28",
   "metadata": {},
   "outputs": [],
   "source": [
    "df = df[['성별코드','연령대코드(5세단위)','신장(5Cm단위)','체중(5Kg단위)','허리둘레','흡연상태','음주여부','수축기혈압']]\n",
    "df.columns = ['sex','age','ht','wt','waist','smoking','alcohol','sbp']"
   ]
  },
  {
   "cell_type": "markdown",
   "id": "b4915f62",
   "metadata": {},
   "source": [
    "## 2. 데이터 전처리\n",
    "\n",
    "### 1) 결측값 제거"
   ]
  },
  {
   "cell_type": "code",
   "execution_count": 61,
   "id": "5b78856c",
   "metadata": {},
   "outputs": [
    {
     "name": "stdout",
     "output_type": "stream",
     "text": [
      "<class 'pandas.core.frame.DataFrame'>\n",
      "Int64Index: 999089 entries, 0 to 999999\n",
      "Data columns (total 8 columns):\n",
      " #   Column   Non-Null Count   Dtype  \n",
      "---  ------   --------------   -----  \n",
      " 0   sex      999089 non-null  int64  \n",
      " 1   age      999089 non-null  int64  \n",
      " 2   ht       999089 non-null  int64  \n",
      " 3   wt       999089 non-null  int64  \n",
      " 4   waist    999089 non-null  float64\n",
      " 5   smoking  999089 non-null  float64\n",
      " 6   alcohol  999089 non-null  object \n",
      " 7   sbp      999089 non-null  float64\n",
      "dtypes: float64(3), int64(4), object(1)\n",
      "memory usage: 68.6+ MB\n"
     ]
    }
   ],
   "source": [
    "df = df.dropna(axis = 0)\n",
    "df.info()"
   ]
  },
  {
   "cell_type": "markdown",
   "id": "b154ed33",
   "metadata": {},
   "source": [
    "### 2) bmi column 생성"
   ]
  },
  {
   "cell_type": "code",
   "execution_count": 62,
   "id": "7c1d6002",
   "metadata": {},
   "outputs": [],
   "source": [
    "df['bmi'] = df['wt'] / ((df['ht']/100)**2)\n",
    "df = df.round(decimals=2)"
   ]
  },
  {
   "cell_type": "markdown",
   "id": "77847dac",
   "metadata": {},
   "source": [
    "### 3) alcohol : str -> float형으로 변환"
   ]
  },
  {
   "cell_type": "code",
   "execution_count": 63,
   "id": "f68c8ea4",
   "metadata": {},
   "outputs": [],
   "source": [
    "df.loc[(df.alcohol=='Y'),'alcohol'] = 1.0\n",
    "df.loc[(df.alcohol=='N'), 'alcohol'] = 0.0\n",
    "\n",
    "df = df.astype(float)"
   ]
  },
  {
   "cell_type": "code",
   "execution_count": 64,
   "id": "a172095d",
   "metadata": {},
   "outputs": [
    {
     "name": "stdout",
     "output_type": "stream",
     "text": [
      "<class 'pandas.core.frame.DataFrame'>\n",
      "Int64Index: 999089 entries, 0 to 999999\n",
      "Data columns (total 9 columns):\n",
      " #   Column   Non-Null Count   Dtype  \n",
      "---  ------   --------------   -----  \n",
      " 0   sex      999089 non-null  float64\n",
      " 1   age      999089 non-null  float64\n",
      " 2   ht       999089 non-null  float64\n",
      " 3   wt       999089 non-null  float64\n",
      " 4   waist    999089 non-null  float64\n",
      " 5   smoking  999089 non-null  float64\n",
      " 6   alcohol  999089 non-null  float64\n",
      " 7   sbp      999089 non-null  float64\n",
      " 8   bmi      999089 non-null  float64\n",
      "dtypes: float64(9)\n",
      "memory usage: 76.2 MB\n"
     ]
    }
   ],
   "source": [
    "df.info()"
   ]
  },
  {
   "cell_type": "markdown",
   "id": "6c6a0921",
   "metadata": {},
   "source": [
    "### 4) 이상값 제거\n",
    "\n",
    "- IQR = Q3 - Q1 \n",
    "- Q1 -3 * IQR => lower\n",
    "- Q3 + 3 * IQR => upper 로 설정\n",
    "- lower보다 작거나 upper보다 큰 값을 이상값으로 간주하고 제거\n",
    "\n",
    "- 변수마다 lower, upper 값을 확인하고 제거하는 과정을 거치면 다른 변수 lower/upper값에 영향을 줄 수 있음\n",
    "- 따라서, 변수 각각의 lower, upper 값을 미리 모두 확인 후 각 값에 맞춰 범위 외의 값을 제거해줌."
   ]
  },
  {
   "cell_type": "markdown",
   "id": "dd040b66",
   "metadata": {},
   "source": [
    "#### (1) lower / upper 값 구하기"
   ]
  },
  {
   "cell_type": "code",
   "execution_count": 65,
   "id": "26a7fb2e",
   "metadata": {},
   "outputs": [
    {
     "name": "stdout",
     "output_type": "stream",
     "text": [
      "======= ht =======\n",
      "lower : 110.0\n",
      "upper : 215.0 \n",
      "\n",
      "======= wt =======\n",
      "lower : 10.0\n",
      "upper : 115.0 \n",
      "\n",
      "======= bmi =======\n",
      "lower : 8.070000000000004\n",
      "upper : 39.36 \n",
      "\n",
      "======= waist =======\n",
      "lower : 32.999999999999986\n",
      "upper : 128.9 \n",
      "\n"
     ]
    }
   ],
   "source": [
    "columns = ['ht','wt','bmi','waist']\n",
    "\n",
    "for column in columns:\n",
    "    \n",
    "    print('=======', column, '=======')\n",
    "    \n",
    "    q25, q75 = np.quantile(df[column], 0.25), np.quantile(df[column], 0.75)\n",
    "    IQR = q75 - q25\n",
    "    \n",
    "    lower = q25 - IQR*3\n",
    "    upper = q75 + IQR*3\n",
    "    \n",
    "    print('lower :', lower)\n",
    "    print('upper :', upper, '\\n')\n",
    "    \n"
   ]
  },
  {
   "cell_type": "markdown",
   "id": "75d9fd01",
   "metadata": {},
   "source": [
    "#### (2) 이상값 제거 - df_tmp에 저장 / df : 원본데이터"
   ]
  },
  {
   "cell_type": "code",
   "execution_count": 66,
   "id": "abefea29",
   "metadata": {},
   "outputs": [],
   "source": [
    "# ht\n",
    "df_tmp = df.drop(df.loc[(df['ht']>215.0)|(df['ht']<110.0)].index)\n",
    "\n",
    "# wt\n",
    "df_tmp = df.drop(df.loc[(df['wt']>115.0)|(df['wt']<10.0)].index)\n",
    "\n",
    "# bmi\n",
    "df_tmp = df.drop(df.loc[(df['bmi']>39.36)|(df['bmi']<8.07)].index)\n",
    "\n",
    "# waist\n",
    "df_tmp = df.drop(df.loc[(df['waist']>128.9)|(df['waist']<32.9)].index)"
   ]
  },
  {
   "cell_type": "markdown",
   "id": "60367d82",
   "metadata": {},
   "source": [
    "## 2. Scaling\n",
    "\n",
    "- 표준화(Standardization)\n",
    "- 정규화(Normalization)"
   ]
  },
  {
   "cell_type": "markdown",
   "id": "089fc227",
   "metadata": {},
   "source": [
    "### 1) 표준화 : df_s"
   ]
  },
  {
   "cell_type": "code",
   "execution_count": 80,
   "id": "b324e873",
   "metadata": {},
   "outputs": [
    {
     "name": "stdout",
     "output_type": "stream",
     "text": [
      "<class 'pandas.core.frame.DataFrame'>\n",
      "Int64Index: 999089 entries, 0 to 999999\n",
      "Data columns (total 9 columns):\n",
      " #   Column   Non-Null Count   Dtype  \n",
      "---  ------   --------------   -----  \n",
      " 0   sex      999089 non-null  float64\n",
      " 1   age      999089 non-null  float64\n",
      " 2   smoking  999089 non-null  float64\n",
      " 3   alcohol  999089 non-null  float64\n",
      " 4   sbp      999089 non-null  float64\n",
      " 5   ht       999089 non-null  float64\n",
      " 6   wt       999089 non-null  float64\n",
      " 7   bmi      999089 non-null  float64\n",
      " 8   waist    999089 non-null  float64\n",
      "dtypes: float64(9)\n",
      "memory usage: 108.5 MB\n",
      "None\n"
     ]
    },
    {
     "data": {
      "text/html": [
       "<div>\n",
       "<style scoped>\n",
       "    .dataframe tbody tr th:only-of-type {\n",
       "        vertical-align: middle;\n",
       "    }\n",
       "\n",
       "    .dataframe tbody tr th {\n",
       "        vertical-align: top;\n",
       "    }\n",
       "\n",
       "    .dataframe thead th {\n",
       "        text-align: right;\n",
       "    }\n",
       "</style>\n",
       "<table border=\"1\" class=\"dataframe\">\n",
       "  <thead>\n",
       "    <tr style=\"text-align: right;\">\n",
       "      <th></th>\n",
       "      <th>sex</th>\n",
       "      <th>age</th>\n",
       "      <th>smoking</th>\n",
       "      <th>alcohol</th>\n",
       "      <th>sbp</th>\n",
       "      <th>ht</th>\n",
       "      <th>wt</th>\n",
       "      <th>bmi</th>\n",
       "      <th>waist</th>\n",
       "    </tr>\n",
       "  </thead>\n",
       "  <tbody>\n",
       "    <tr>\n",
       "      <th>0</th>\n",
       "      <td>1.0</td>\n",
       "      <td>8.0</td>\n",
       "      <td>1.0</td>\n",
       "      <td>1.0</td>\n",
       "      <td>120.0</td>\n",
       "      <td>0.836785</td>\n",
       "      <td>0.936746</td>\n",
       "      <td>0.578814</td>\n",
       "      <td>0.740661</td>\n",
       "    </tr>\n",
       "    <tr>\n",
       "      <th>1</th>\n",
       "      <td>1.0</td>\n",
       "      <td>7.0</td>\n",
       "      <td>3.0</td>\n",
       "      <td>0.0</td>\n",
       "      <td>130.0</td>\n",
       "      <td>1.913750</td>\n",
       "      <td>1.336077</td>\n",
       "      <td>0.220547</td>\n",
       "      <td>0.656193</td>\n",
       "    </tr>\n",
       "    <tr>\n",
       "      <th>2</th>\n",
       "      <td>1.0</td>\n",
       "      <td>9.0</td>\n",
       "      <td>1.0</td>\n",
       "      <td>0.0</td>\n",
       "      <td>120.0</td>\n",
       "      <td>0.298303</td>\n",
       "      <td>0.936746</td>\n",
       "      <td>1.033756</td>\n",
       "      <td>0.825129</td>\n",
       "    </tr>\n",
       "    <tr>\n",
       "      <th>3</th>\n",
       "      <td>1.0</td>\n",
       "      <td>11.0</td>\n",
       "      <td>1.0</td>\n",
       "      <td>0.0</td>\n",
       "      <td>145.0</td>\n",
       "      <td>1.375267</td>\n",
       "      <td>1.336077</td>\n",
       "      <td>0.627151</td>\n",
       "      <td>0.825129</td>\n",
       "    </tr>\n",
       "    <tr>\n",
       "      <th>4</th>\n",
       "      <td>1.0</td>\n",
       "      <td>11.0</td>\n",
       "      <td>1.0</td>\n",
       "      <td>0.0</td>\n",
       "      <td>138.0</td>\n",
       "      <td>0.298303</td>\n",
       "      <td>-0.261248</td>\n",
       "      <td>-0.532952</td>\n",
       "      <td>-0.104020</td>\n",
       "    </tr>\n",
       "  </tbody>\n",
       "</table>\n",
       "</div>"
      ],
      "text/plain": [
       "   sex   age  smoking  alcohol    sbp        ht        wt       bmi     waist\n",
       "0  1.0   8.0      1.0      1.0  120.0  0.836785  0.936746  0.578814  0.740661\n",
       "1  1.0   7.0      3.0      0.0  130.0  1.913750  1.336077  0.220547  0.656193\n",
       "2  1.0   9.0      1.0      0.0  120.0  0.298303  0.936746  1.033756  0.825129\n",
       "3  1.0  11.0      1.0      0.0  145.0  1.375267  1.336077  0.627151  0.825129\n",
       "4  1.0  11.0      1.0      0.0  138.0  0.298303 -0.261248 -0.532952 -0.104020"
      ]
     },
     "execution_count": 80,
     "metadata": {},
     "output_type": "execute_result"
    }
   ],
   "source": [
    "scaler2 = StandardScaler()\n",
    "\n",
    "x_ht = scaler2.fit_transform(df[['ht']])\n",
    "x_wt = scaler2.fit_transform(df[['wt']])\n",
    "x_bmi = scaler2.fit_transform(df[['bmi']])\n",
    "x_waist = scaler2.fit_transform(df[['waist']])\n",
    "\n",
    "df_s = df[['sex','age','smoking','alcohol', 'sbp']]\n",
    "df_s['ht'] = x_ht\n",
    "df_s['wt'] = x_wt\n",
    "df_s['bmi'] = x_bmi\n",
    "df_s['waist'] = x_waist\n",
    "\n",
    "print(df_s.info())\n",
    "df_s.head()"
   ]
  },
  {
   "cell_type": "markdown",
   "id": "0cfbde42",
   "metadata": {},
   "source": [
    "### 2) 정규화 : df_n"
   ]
  },
  {
   "cell_type": "code",
   "execution_count": 81,
   "id": "913371e4",
   "metadata": {},
   "outputs": [
    {
     "name": "stdout",
     "output_type": "stream",
     "text": [
      "<class 'pandas.core.frame.DataFrame'>\n",
      "Int64Index: 998994 entries, 0 to 999999\n",
      "Data columns (total 9 columns):\n",
      " #   Column   Non-Null Count   Dtype  \n",
      "---  ------   --------------   -----  \n",
      " 0   sex      998994 non-null  float64\n",
      " 1   age      998994 non-null  float64\n",
      " 2   smoking  998994 non-null  float64\n",
      " 3   alcohol  998994 non-null  float64\n",
      " 4   sbp      998994 non-null  float64\n",
      " 5   ht       998994 non-null  float64\n",
      " 6   wt       998994 non-null  float64\n",
      " 7   bmi      998994 non-null  float64\n",
      " 8   waist    998994 non-null  float64\n",
      "dtypes: float64(9)\n",
      "memory usage: 76.2 MB\n",
      "None\n"
     ]
    },
    {
     "data": {
      "text/html": [
       "<div>\n",
       "<style scoped>\n",
       "    .dataframe tbody tr th:only-of-type {\n",
       "        vertical-align: middle;\n",
       "    }\n",
       "\n",
       "    .dataframe tbody tr th {\n",
       "        vertical-align: top;\n",
       "    }\n",
       "\n",
       "    .dataframe thead th {\n",
       "        text-align: right;\n",
       "    }\n",
       "</style>\n",
       "<table border=\"1\" class=\"dataframe\">\n",
       "  <thead>\n",
       "    <tr style=\"text-align: right;\">\n",
       "      <th></th>\n",
       "      <th>sex</th>\n",
       "      <th>age</th>\n",
       "      <th>smoking</th>\n",
       "      <th>alcohol</th>\n",
       "      <th>sbp</th>\n",
       "      <th>ht</th>\n",
       "      <th>wt</th>\n",
       "      <th>bmi</th>\n",
       "      <th>waist</th>\n",
       "    </tr>\n",
       "  </thead>\n",
       "  <tbody>\n",
       "    <tr>\n",
       "      <th>0</th>\n",
       "      <td>1.0</td>\n",
       "      <td>8.0</td>\n",
       "      <td>1.0</td>\n",
       "      <td>1.0</td>\n",
       "      <td>120.0</td>\n",
       "      <td>0.666667</td>\n",
       "      <td>0.434783</td>\n",
       "      <td>0.405178</td>\n",
       "      <td>0.591398</td>\n",
       "    </tr>\n",
       "    <tr>\n",
       "      <th>1</th>\n",
       "      <td>1.0</td>\n",
       "      <td>7.0</td>\n",
       "      <td>3.0</td>\n",
       "      <td>0.0</td>\n",
       "      <td>130.0</td>\n",
       "      <td>0.833333</td>\n",
       "      <td>0.478261</td>\n",
       "      <td>0.367249</td>\n",
       "      <td>0.580645</td>\n",
       "    </tr>\n",
       "    <tr>\n",
       "      <th>2</th>\n",
       "      <td>1.0</td>\n",
       "      <td>9.0</td>\n",
       "      <td>1.0</td>\n",
       "      <td>0.0</td>\n",
       "      <td>120.0</td>\n",
       "      <td>0.583333</td>\n",
       "      <td>0.434783</td>\n",
       "      <td>0.453341</td>\n",
       "      <td>0.602151</td>\n",
       "    </tr>\n",
       "    <tr>\n",
       "      <th>3</th>\n",
       "      <td>1.0</td>\n",
       "      <td>11.0</td>\n",
       "      <td>1.0</td>\n",
       "      <td>0.0</td>\n",
       "      <td>145.0</td>\n",
       "      <td>0.750000</td>\n",
       "      <td>0.478261</td>\n",
       "      <td>0.410295</td>\n",
       "      <td>0.602151</td>\n",
       "    </tr>\n",
       "    <tr>\n",
       "      <th>4</th>\n",
       "      <td>1.0</td>\n",
       "      <td>11.0</td>\n",
       "      <td>1.0</td>\n",
       "      <td>0.0</td>\n",
       "      <td>138.0</td>\n",
       "      <td>0.583333</td>\n",
       "      <td>0.304348</td>\n",
       "      <td>0.287477</td>\n",
       "      <td>0.483871</td>\n",
       "    </tr>\n",
       "  </tbody>\n",
       "</table>\n",
       "</div>"
      ],
      "text/plain": [
       "   sex   age  smoking  alcohol    sbp        ht        wt       bmi     waist\n",
       "0  1.0   8.0      1.0      1.0  120.0  0.666667  0.434783  0.405178  0.591398\n",
       "1  1.0   7.0      3.0      0.0  130.0  0.833333  0.478261  0.367249  0.580645\n",
       "2  1.0   9.0      1.0      0.0  120.0  0.583333  0.434783  0.453341  0.602151\n",
       "3  1.0  11.0      1.0      0.0  145.0  0.750000  0.478261  0.410295  0.602151\n",
       "4  1.0  11.0      1.0      0.0  138.0  0.583333  0.304348  0.287477  0.483871"
      ]
     },
     "execution_count": 81,
     "metadata": {},
     "output_type": "execute_result"
    }
   ],
   "source": [
    "scaler1 = MinMaxScaler()\n",
    "x_ht = scaler1.fit_transform(df_tmp[['ht']])\n",
    "x_wt = scaler1.fit_transform(df_tmp[['wt']])\n",
    "x_bmi = scaler1.fit_transform(df_tmp[['bmi']])\n",
    "x_waist = scaler1.fit_transform(df_tmp[['waist']])\n",
    "\n",
    "df_n = df_tmp[['sex','age','smoking','alcohol', 'sbp']]\n",
    "df_n['ht'] = x_ht\n",
    "df_n['wt'] = x_wt\n",
    "df_n['bmi'] = x_bmi\n",
    "df_n['waist'] = x_waist\n",
    "\n",
    "print(df_n.info())\n",
    "df_n.head()\n"
   ]
  },
  {
   "cell_type": "markdown",
   "id": "f1629743",
   "metadata": {},
   "source": [
    "# 3. Modeling "
   ]
  },
  {
   "cell_type": "markdown",
   "id": "fcb3535e",
   "metadata": {},
   "source": [
    "## 1) Linear Regression_표준화"
   ]
  },
  {
   "cell_type": "code",
   "execution_count": 82,
   "id": "dd70012d",
   "metadata": {},
   "outputs": [
    {
     "data": {
      "text/plain": [
       "((699362, 8), (299727, 8), (699362,), (299727,))"
      ]
     },
     "execution_count": 82,
     "metadata": {},
     "output_type": "execute_result"
    }
   ],
   "source": [
    "## 1. split\n",
    "\n",
    "X = df_s[['sex','age','ht','wt','bmi','waist','smoking','alcohol']]\n",
    "y = df_s['sbp']\n",
    "\n",
    "X_train, X_test, y_train, y_test = train_test_split(X, y, test_size = 0.3, random_state = 2045)\n",
    "\n",
    "X_train.shape, X_test.shape, y_train.shape, y_test.shape"
   ]
  },
  {
   "cell_type": "code",
   "execution_count": 83,
   "id": "6ddb42ac",
   "metadata": {},
   "outputs": [
    {
     "name": "stdout",
     "output_type": "stream",
     "text": [
      "rmse :  13.239892371936612\n"
     ]
    }
   ],
   "source": [
    "## 2. fit \n",
    "\n",
    "RA = LinearRegression()\n",
    "RA.fit(X_train, y_train)\n",
    "\n",
    "## 3. Predict\n",
    "\n",
    "y_hat = RA.predict(X_test)\n",
    "\n",
    "## 4. Root MSE \n",
    "\n",
    "rmse = np.sqrt(mean_squared_error(y_test, y_hat))\n",
    "\n",
    "print('rmse : ', rmse)"
   ]
  },
  {
   "cell_type": "markdown",
   "id": "f38e0ce4",
   "metadata": {},
   "source": [
    "## 2) Linear Regression_정규화"
   ]
  },
  {
   "cell_type": "code",
   "execution_count": 84,
   "id": "dc294a01",
   "metadata": {},
   "outputs": [
    {
     "data": {
      "text/plain": [
       "((699295, 8), (299699, 8), (699295,), (299699,))"
      ]
     },
     "execution_count": 84,
     "metadata": {},
     "output_type": "execute_result"
    }
   ],
   "source": [
    "## 1. split\n",
    "\n",
    "X = df_n[['sex','age','ht','wt','bmi','waist','smoking','alcohol']]\n",
    "y = df_n['sbp']\n",
    "\n",
    "X_train, X_test, y_train, y_test = train_test_split(X, y, test_size = 0.3, random_state = 2045)\n",
    "\n",
    "X_train.shape, X_test.shape, y_train.shape, y_test.shape"
   ]
  },
  {
   "cell_type": "code",
   "execution_count": 85,
   "id": "ef122dcf",
   "metadata": {},
   "outputs": [
    {
     "name": "stdout",
     "output_type": "stream",
     "text": [
      "rmse :  13.133528264181477\n"
     ]
    }
   ],
   "source": [
    "## 2. fit \n",
    "\n",
    "RA = LinearRegression()\n",
    "RA.fit(X_train, y_train)\n",
    "\n",
    "## 3. Predict\n",
    "\n",
    "y_hat = RA.predict(X_test)\n",
    "\n",
    "## 4. Root MSE \n",
    "\n",
    "rmse = np.sqrt(mean_squared_error(y_test, y_hat))\n",
    "\n",
    "print('rmse : ', rmse)"
   ]
  }
 ],
 "metadata": {
  "kernelspec": {
   "display_name": "Python 3",
   "language": "python",
   "name": "python3"
  },
  "language_info": {
   "codemirror_mode": {
    "name": "ipython",
    "version": 3
   },
   "file_extension": ".py",
   "mimetype": "text/x-python",
   "name": "python",
   "nbconvert_exporter": "python",
   "pygments_lexer": "ipython3",
   "version": "3.8.8"
  }
 },
 "nbformat": 4,
 "nbformat_minor": 5
}
