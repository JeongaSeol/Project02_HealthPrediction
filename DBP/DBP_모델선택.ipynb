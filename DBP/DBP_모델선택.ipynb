{
 "cells": [
  {
   "cell_type": "code",
   "execution_count": 1,
   "id": "eaf5faf2",
   "metadata": {},
   "outputs": [],
   "source": [
    "import pandas as pd\n",
    "import numpy as np\n",
    "\n",
    "import warnings\n",
    "warnings.filterwarnings('ignore')\n",
    "\n",
    "import matplotlib.pyplot as plt\n",
    "import seaborn as sns\n",
    "import pickle\n",
    "\n",
    "# 시각화 한글 지원\n",
    "from matplotlib import font_manager, rc\n",
    "font_path = \"C:/Windows/Fonts/malgun.ttf\" \n",
    "font = font_manager.FontProperties(fname=font_path).get_name()\n",
    "rc('font', family=font)\n",
    "\n",
    "# 상관계수\n",
    "from scipy import stats\n",
    "\n",
    "# model\n",
    "from sklearn.model_selection import train_test_split, GridSearchCV, KFold, cross_val_score\n",
    "from sklearn.linear_model import LinearRegression, Ridge, Lasso, ElasticNet\n",
    "from sklearn.ensemble import RandomForestRegressor, GradientBoostingRegressor\n",
    "from xgboost import XGBRegressor\n",
    "from lightgbm import LGBMRegressor\n",
    "from sklearn.tree import DecisionTreeRegressor, export_graphviz\n",
    "import graphviz\n",
    "import xgboost\n",
    "from sklearn.metrics import mean_squared_error\n",
    "from sklearn.preprocessing import PolynomialFeatures, MinMaxScaler, StandardScaler\n",
    "from sklearn.neural_network import MLPRegressor"
   ]
  },
  {
   "cell_type": "markdown",
   "id": "ca636bbe",
   "metadata": {},
   "source": [
    "# 1. 데이터 전처리"
   ]
  },
  {
   "cell_type": "code",
   "execution_count": 2,
   "id": "46ae7a23",
   "metadata": {},
   "outputs": [],
   "source": [
    "df = pd.read_csv('C:/Users/sja95/OneDrive/바탕 화면/dataset/건강검진2017.csv', encoding = 'euc-KR')\n",
    "\n",
    "df = df[['성별코드','연령대코드(5세단위)','신장(5Cm단위)','체중(5Kg단위)','허리둘레','흡연상태','음주여부','이완기혈압']]\n",
    "df.columns = ['sex','age','ht','wt','waist','smoking','alcohol','dbp']\n",
    "\n",
    "df = df.dropna(axis = 0)\n",
    "\n",
    "df['bmi'] = df['wt'] / ((df['ht']/100)**2)\n",
    "df['absi'] = (df['waist']*0.393701) /((df['bmi']**0.6666) * ((df['ht']/100)**0.5))\n",
    "df = df.round(decimals = 2)\n",
    "\n",
    "df.loc[(df.alcohol=='Y'),'alcohol'] = 1.0\n",
    "df.loc[(df.alcohol=='N'), 'alcohol'] = 0.0\n",
    "\n",
    "df['alcohol'] = df.alcohol.astype(float)\n",
    "\n",
    "df.drop(df.loc[(df['waist']>128.9)|(df['waist']<55.0)].index, inplace = True)\n",
    "df.drop(df.loc[(df['absi']>3.94)|(df['absi']<2.12)].index, inplace = True)\n",
    "\n"
   ]
  },
  {
   "cell_type": "markdown",
   "id": "dd9afd41",
   "metadata": {},
   "source": [
    "# 2. 모델링"
   ]
  },
  {
   "cell_type": "markdown",
   "id": "856423e4",
   "metadata": {},
   "source": [
    "## 1) Linear Regression"
   ]
  },
  {
   "cell_type": "code",
   "execution_count": 3,
   "id": "16a3a7ab",
   "metadata": {},
   "outputs": [
    {
     "name": "stdout",
     "output_type": "stream",
     "text": [
      "rmse :  9.264237031110188\n"
     ]
    }
   ],
   "source": [
    "## 1. split\n",
    "\n",
    "X = df[['sex','age','ht','wt','bmi','absi','waist','smoking','alcohol']]\n",
    "y = df['dbp']\n",
    "\n",
    "X_train, X_test, y_train, y_test = train_test_split(X, y, test_size = 0.3, random_state = 2045)\n",
    "\n",
    "## 2. fit \n",
    "\n",
    "RA = LinearRegression()\n",
    "RA.fit(X_train, y_train)\n",
    "\n",
    "## 3. Predict\n",
    "\n",
    "y_hat = RA.predict(X_test)\n",
    "\n",
    "## 4. Root MSE \n",
    "\n",
    "rmse_LR = np.sqrt(mean_squared_error(y_test, y_hat))\n",
    "\n",
    "print('rmse : ', rmse_LR)"
   ]
  },
  {
   "cell_type": "code",
   "execution_count": 10,
   "id": "91de0479",
   "metadata": {},
   "outputs": [
    {
     "data": {
      "text/plain": [
       "70.0"
      ]
     },
     "execution_count": 10,
     "metadata": {},
     "output_type": "execute_result"
    }
   ],
   "source": [
    "X_test.loc[[703231]]\n",
    "y_test[703231]"
   ]
  },
  {
   "cell_type": "markdown",
   "id": "6255c33a",
   "metadata": {},
   "source": [
    "## 2) Polynomial Linear Regression_2차"
   ]
  },
  {
   "cell_type": "code",
   "execution_count": 6,
   "id": "3b54af15",
   "metadata": {},
   "outputs": [
    {
     "name": "stdout",
     "output_type": "stream",
     "text": [
      "rmse :  9.20479191462278\n"
     ]
    }
   ],
   "source": [
    "## 2. polynomialFeatures(degree=2)\n",
    "\n",
    "poly_train = PolynomialFeatures(degree=2).fit_transform(X_train)\n",
    "\n",
    "\n",
    "## 3. Linear Regression \n",
    "\n",
    "PLR = LinearRegression()\n",
    "PLR.fit(poly_train, y_train)\n",
    "\n",
    "## 4. Predict\n",
    "\n",
    "poly_test = PolynomialFeatures(degree=2).fit_transform(X_test)\n",
    "y_hat = PLR.predict(poly_test)\n",
    "\n",
    "## 5. RMSE\n",
    "\n",
    "rmse_PLR2 = np.sqrt(mean_squared_error(y_test, y_hat))\n",
    "\n",
    "print('rmse : ', rmse_PLR2) "
   ]
  },
  {
   "cell_type": "markdown",
   "id": "4c12c9c2",
   "metadata": {},
   "source": [
    "## 3) Polynomial Linear Regression_3차"
   ]
  },
  {
   "cell_type": "code",
   "execution_count": 7,
   "id": "eb3c93bf",
   "metadata": {},
   "outputs": [
    {
     "name": "stdout",
     "output_type": "stream",
     "text": [
      "rmse :  9.185628475612518\n"
     ]
    }
   ],
   "source": [
    "## 2. polynomialFeatures(degree=3)\n",
    "\n",
    "poly_train = PolynomialFeatures(degree=3).fit_transform(X_train)\n",
    "\n",
    "\n",
    "## 3. Linear Regression \n",
    "\n",
    "PLR3 = LinearRegression()\n",
    "PLR3.fit(poly_train, y_train)\n",
    "\n",
    "## 4. Predict\n",
    "\n",
    "poly_test = PolynomialFeatures(degree=3).fit_transform(X_test)\n",
    "y_hat = PLR3.predict(poly_test)\n",
    "\n",
    "## 5. RMSE\n",
    "\n",
    "rmse_PLR3 = np.sqrt(mean_squared_error(y_test, y_hat))\n",
    "\n",
    "print('rmse : ', rmse_PLR3)  "
   ]
  },
  {
   "cell_type": "markdown",
   "id": "2332034c",
   "metadata": {},
   "source": [
    "## 4) Ridge Regression"
   ]
  },
  {
   "cell_type": "code",
   "execution_count": 8,
   "id": "ce5863a6",
   "metadata": {},
   "outputs": [
    {
     "name": "stdout",
     "output_type": "stream",
     "text": [
      "rmse :  9.26423705015516\n"
     ]
    }
   ],
   "source": [
    "## 2. model define\n",
    "\n",
    "ridge = Ridge(alpha = 0.05)\n",
    "ridge.fit(X_train, y_train)\n",
    "y_hat = ridge.predict(X_test)\n",
    "\n",
    "rmse_ridge = np.sqrt(mean_squared_error(y_test, y_hat))\n",
    "\n",
    "print('rmse : ', rmse_ridge)  "
   ]
  },
  {
   "cell_type": "markdown",
   "id": "957d1780",
   "metadata": {},
   "source": [
    "## 5) Lasso Regression"
   ]
  },
  {
   "cell_type": "code",
   "execution_count": 9,
   "id": "25617932",
   "metadata": {},
   "outputs": [
    {
     "name": "stdout",
     "output_type": "stream",
     "text": [
      "rmse :  9.269692752726437\n"
     ]
    }
   ],
   "source": [
    "## 2. model define\n",
    "    \n",
    "lasso = Lasso(alpha = 0.05)\n",
    "lasso.fit(X_train, y_train)\n",
    "y_hat = lasso.predict(X_test)\n",
    "rmse_lasso = np.sqrt(mean_squared_error(y_test, y_hat))\n",
    "\n",
    "print('rmse : ', rmse_lasso) "
   ]
  },
  {
   "cell_type": "markdown",
   "id": "d796a468",
   "metadata": {},
   "source": [
    "## 6) ElasticNet Regression "
   ]
  },
  {
   "cell_type": "code",
   "execution_count": 10,
   "id": "a81161f0",
   "metadata": {},
   "outputs": [
    {
     "name": "stdout",
     "output_type": "stream",
     "text": [
      "rmse :  9.270205875032802\n"
     ]
    }
   ],
   "source": [
    "elastic = ElasticNet(alpha = 0.05, l1_ratio=0.7)\n",
    "elastic.fit(X_train, y_train)\n",
    "y_hat = elastic.predict(X_test)\n",
    "rmse_elasticNet = np.sqrt(mean_squared_error(y_test, y_hat))\n",
    "\n",
    "print('rmse : ', rmse_elasticNet) "
   ]
  },
  {
   "cell_type": "markdown",
   "id": "ccba4e5c",
   "metadata": {},
   "source": [
    "## 7) Decision Tree"
   ]
  },
  {
   "cell_type": "code",
   "execution_count": 11,
   "id": "b075dd64",
   "metadata": {},
   "outputs": [
    {
     "name": "stdout",
     "output_type": "stream",
     "text": [
      "rmse :  9.213507489091224\n"
     ]
    }
   ],
   "source": [
    "## 2. fit \n",
    "\n",
    "dt = DecisionTreeRegressor(random_state = 2045, max_depth = 8  ,min_samples_split = 128)\n",
    "dt.fit(X_train, y_train)\n",
    "\n",
    "## 3. Predict\n",
    "\n",
    "y_hat = dt.predict(X_test)\n",
    "\n",
    "## 4. Root MSE \n",
    "\n",
    "rmse_dt = np.sqrt(mean_squared_error(y_test, y_hat))\n",
    "\n",
    "print('rmse : ', rmse_dt)\n"
   ]
  },
  {
   "cell_type": "markdown",
   "id": "03a2af5d",
   "metadata": {},
   "source": [
    "## 8) RandomForest"
   ]
  },
  {
   "cell_type": "code",
   "execution_count": 12,
   "id": "dc79442b",
   "metadata": {},
   "outputs": [
    {
     "name": "stdout",
     "output_type": "stream",
     "text": [
      "rmse :  9.191027144565261\n",
      "Wall time: 12.3 s\n"
     ]
    }
   ],
   "source": [
    "%%time\n",
    "\n",
    "## 2. fit \n",
    "\n",
    "rf = RandomForestRegressor(random_state = 2045, max_depth = 10  ,max_features = 4, n_jobs = -1, n_estimators = 100)\n",
    "rf.fit(X_train, y_train)\n",
    "\n",
    "## 3. Predict\n",
    "\n",
    "y_hat = rf.predict(X_test)\n",
    "\n",
    "## 4. Root MSE \n",
    "\n",
    "rmse_rf = np.sqrt(mean_squared_error(y_test, y_hat))\n",
    "\n",
    "print('rmse : ', rmse_rf)\n"
   ]
  },
  {
   "cell_type": "markdown",
   "id": "6278405e",
   "metadata": {},
   "source": [
    "## 9) GradientBoosting Regression"
   ]
  },
  {
   "cell_type": "code",
   "execution_count": 13,
   "id": "f22fd2d6",
   "metadata": {},
   "outputs": [
    {
     "name": "stdout",
     "output_type": "stream",
     "text": [
      "rmse :  9.182979828259672\n",
      "Wall time: 8min 45s\n"
     ]
    }
   ],
   "source": [
    "%%time\n",
    "\n",
    "## 2. fit \n",
    "\n",
    "gb = GradientBoostingRegressor(random_state = 2045, n_estimators = 1000, learning_rate = 0.03)\n",
    "gb.fit(X_train, y_train)\n",
    "\n",
    "## 3. Predict\n",
    "\n",
    "y_hat = gb.predict(X_test)\n",
    "\n",
    "## 4. Root MSE \n",
    "\n",
    "rmse_GBM = np.sqrt(mean_squared_error(y_test, y_hat))\n",
    "\n",
    "print('rmse : ', rmse_GBM)\n"
   ]
  },
  {
   "cell_type": "markdown",
   "id": "8bd1754a",
   "metadata": {},
   "source": [
    "## 10) XGBoost_gbtree"
   ]
  },
  {
   "cell_type": "code",
   "execution_count": 14,
   "id": "4317de17",
   "metadata": {},
   "outputs": [
    {
     "name": "stdout",
     "output_type": "stream",
     "text": [
      "rmse :  9.195599273446149\n",
      "Wall time: 3min 40s\n"
     ]
    }
   ],
   "source": [
    "%%time\n",
    "\n",
    "## 2. fit \n",
    "\n",
    "xgb = XGBRegressor(random_state = 2045, \n",
    "                    n_estimators = 1000, \n",
    "                    learning_rate = 0.01,\n",
    "                   max_depth = 10)\n",
    "xgb.fit(X_train, y_train)\n",
    "\n",
    "## 3. Predict\n",
    "\n",
    "y_hat = xgb.predict(X_test)\n",
    "\n",
    "## 4. Root MSE \n",
    "\n",
    "rmse_XGBtree = np.sqrt(mean_squared_error(y_test, y_hat))\n",
    "\n",
    "print('rmse : ', rmse_XGBtree)\n"
   ]
  },
  {
   "cell_type": "markdown",
   "id": "f652f803",
   "metadata": {},
   "source": [
    "## 11) XGBoost_gblinear"
   ]
  },
  {
   "cell_type": "code",
   "execution_count": 16,
   "id": "b9b2ec43",
   "metadata": {},
   "outputs": [
    {
     "name": "stdout",
     "output_type": "stream",
     "text": [
      "rmse :  9.288525596977223\n",
      "Wall time: 26.7 s\n"
     ]
    }
   ],
   "source": [
    "%%time\n",
    "\n",
    "## 2. fit \n",
    "\n",
    "xgb = XGBRegressor(random_state = 2045,\n",
    "                   booster = 'gblinear',\n",
    "                    n_estimators = 2000, \n",
    "                    learning_rate = 0.2)\n",
    "xgb.fit(X_train, y_train)\n",
    "\n",
    "## 3. Predict\n",
    "\n",
    "y_hat = xgb.predict(X_test)\n",
    "\n",
    "## 4. Root MSE \n",
    "\n",
    "rmse_XGBlinear = np.sqrt(mean_squared_error(y_test, y_hat))\n",
    "\n",
    "print('rmse : ', rmse_XGBlinear)\n",
    "\n"
   ]
  },
  {
   "cell_type": "markdown",
   "id": "2020683d",
   "metadata": {},
   "source": [
    "## 12) LGBM Regression "
   ]
  },
  {
   "cell_type": "code",
   "execution_count": 4,
   "id": "67b039d5",
   "metadata": {},
   "outputs": [
    {
     "name": "stdout",
     "output_type": "stream",
     "text": [
      "max_error :  102.16819167168133\n",
      "min_error :  1.7683073096463886e-05\n",
      "rmse :  9.181909564565064\n",
      "Wall time: 27.5 s\n"
     ]
    }
   ],
   "source": [
    "%%time\n",
    "\n",
    "## 2. fit \n",
    "\n",
    "lgb = LGBMRegressor(random_state = 2045,\n",
    "                    n_estimators = 2000, \n",
    "                    learning_rate = 0.01,\n",
    "                  max_depth = 12)\n",
    "lgb.fit(X_train, y_train)\n",
    "\n",
    "## 3. Predict\n",
    "\n",
    "y_hat = lgb.predict(X_test)\n",
    "\n",
    "error = y_test - y_hat\n",
    "\n",
    "print('max_error : ', np.max(abs(error)))\n",
    "print('min_error : ', np.min(abs(error)))\n",
    "\n",
    "## 4. Root MSE \n",
    "\n",
    "rmse_LGBM = np.sqrt(mean_squared_error(y_test, y_hat))\n",
    "\n",
    "print('rmse : ', rmse_LGBM)\n",
    "\n"
   ]
  },
  {
   "cell_type": "code",
   "execution_count": 5,
   "id": "e28abbc0",
   "metadata": {},
   "outputs": [
    {
     "data": {
      "image/png": "[encoded data removed]",
      "text/plain": [
       "<Figure size 648x432 with 1 Axes>"
      ]
     },
     "metadata": {
      "needs_background": "light"
     },
     "output_type": "display_data"
    }
   ],
   "source": [
    "plt.figure(figsize = (9,6))\n",
    "sns.barplot(lgb.feature_importances_,\n",
    "           X_train.columns)\n",
    "plt.savefig('featureImportance_dbp.png')\n",
    "plt.show()"
   ]
  },
  {
   "cell_type": "code",
   "execution_count": 7,
   "id": "2f07e9f4",
   "metadata": {},
   "outputs": [],
   "source": [
    "pickle.dump(lgb, open('LGBM_DBP.sav', 'wb'))"
   ]
  },
  {
   "cell_type": "markdown",
   "id": "bb24b6e6",
   "metadata": {},
   "source": [
    "## 13) MLP Regression "
   ]
  },
  {
   "cell_type": "code",
   "execution_count": 19,
   "id": "042bad1b",
   "metadata": {},
   "outputs": [
    {
     "name": "stdout",
     "output_type": "stream",
     "text": [
      "rmse :  9.200935680978372\n",
      "Wall time: 23min 21s\n"
     ]
    }
   ],
   "source": [
    "%%time \n",
    "\n",
    "## 2. model define & fit\n",
    "\n",
    "mlp = MLPRegressor(hidden_layer_sizes = (128,128,64), activation = 'relu', random_state = 2045,\n",
    "                  max_iter = 2000)\n",
    "mlp.fit(X_train, y_train)\n",
    "\n",
    "## 3. predicition\n",
    "\n",
    "y_hat = mlp.predict(X_test)\n",
    "\n",
    "## 4. RMSE, R2 score\n",
    "\n",
    "rmse_MLP2 = np.sqrt(mean_squared_error(y_test, y_hat))\n",
    "\n",
    "print('rmse : ', rmse_MLP2)"
   ]
  },
  {
   "cell_type": "markdown",
   "id": "b2adebda",
   "metadata": {},
   "source": [
    "# 3. 모델 Selection"
   ]
  },
  {
   "cell_type": "code",
   "execution_count": 22,
   "id": "cf241629",
   "metadata": {},
   "outputs": [
    {
     "data": {
      "image/png": "[encoded data removed]",
      "text/plain": [
       "<Figure size 432x288 with 1 Axes>"
      ]
     },
     "metadata": {
      "needs_background": "light"
     },
     "output_type": "display_data"
    }
   ],
   "source": [
    "name = ['LR','PLR2','PLR3','Ridge','Lasso','ElasticNet','DT','RF','GBM','XGBt','XGBl','LGBM','MLP2']\n",
    "rmses = [rmse_LR, rmse_PLR2, rmse_PLR3, rmse_ridge, rmse_lasso, rmse_elasticNet, \n",
    "        rmse_dt, rmse_rf, rmse_GBM, rmse_XGBtree, rmse_XGBlinear, rmse_LGBM, rmse_MLP2 ]\n",
    "\n",
    "\n",
    "plt.figsize = (20, 10)\n",
    "plt.plot(name, rmses, marker = 'o' , color = '#036635')\n",
    "plt.ylim(9.15,9.30)\n",
    "plt.xticks(rotation = 45)\n",
    "plt.xlabel('Model 종류')\n",
    "plt.ylabel('RMSE')\n",
    "plt.title('Model간의 RMSE 비교')\n",
    "plt.savefig('rmse_Models.png')\n",
    "plt.show()"
   ]
  },
  {
   "cell_type": "code",
   "execution_count": 24,
   "id": "88c61521",
   "metadata": {},
   "outputs": [
    {
     "name": "stdout",
     "output_type": "stream",
     "text": [
      "max :  9.288525596977223\n",
      "min :  9.181909564565064\n"
     ]
    }
   ],
   "source": [
    "print('max : ', np.max(rmses))\n",
    "print('min : ', np.min(rmses))"
   ]
  },
  {
   "cell_type": "code",
   "execution_count": 26,
   "id": "60b469e1",
   "metadata": {},
   "outputs": [
    {
     "data": {
      "text/plain": [
       "9.181909564565064"
      ]
     },
     "execution_count": 26,
     "metadata": {},
     "output_type": "execute_result"
    }
   ],
   "source": [
    "rmses[-2]"
   ]
  }
 ],
 "metadata": {
  "kernelspec": {
   "display_name": "Python 3",
   "language": "python",
   "name": "python3"
  },
  "language_info": {
   "codemirror_mode": {
    "name": "ipython",
    "version": 3
   },
   "file_extension": ".py",
   "mimetype": "text/x-python",
   "name": "python",
   "nbconvert_exporter": "python",
   "pygments_lexer": "ipython3",
   "version": "3.8.8"
  }
 },
 "nbformat": 4,
 "nbformat_minor": 5
}
