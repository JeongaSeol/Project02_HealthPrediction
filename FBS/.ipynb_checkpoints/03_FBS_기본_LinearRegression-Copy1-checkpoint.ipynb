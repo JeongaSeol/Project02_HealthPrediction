{
 "cells": [
  {
   "cell_type": "markdown",
   "id": "fa464914",
   "metadata": {},
   "source": [
    "# FBS(혈당)\n",
    "\n",
    "### X변수(기본)\n",
    "- sex : 1(남자), 2(여자)\n",
    "- age : 20세 부터 5세 단위\n",
    "- ht : 5cm단위\n",
    "- wt : 5kg 단위\n",
    "- waist : 허리둘레 cm\n",
    "- bmi \n",
    "- absi : 체형지수 => 허리둘레 / (BMI * 2/3) * (ht * 1/2)\n",
    "- smoking : 1(피우지 않음), 2(피웠다끊음), 3(피우고있음)\n",
    "- alcohol : 0(마시지않음), 1(마심)"
   ]
  },
  {
   "cell_type": "code",
   "execution_count": 1,
   "id": "5fcbf42c",
   "metadata": {},
   "outputs": [],
   "source": [
    "import pandas as pd\n",
    "import numpy as np\n",
    "\n",
    "import warnings\n",
    "warnings.filterwarnings('ignore')\n",
    "\n",
    "import matplotlib.pyplot as plt\n",
    "import seaborn as sns\n",
    "\n",
    "# 시각화 한글 지원\n",
    "from matplotlib import font_manager, rc\n",
    "font_path = \"C:/Windows/Fonts/malgun.ttf\" \n",
    "font = font_manager.FontProperties(fname=font_path).get_name()\n",
    "rc('font', family=font)\n",
    "\n",
    "# 상관계수\n",
    "from scipy import stats\n",
    "\n",
    "# model\n",
    "from sklearn.model_selection import train_test_split, GridSearchCV, KFold, cross_val_score\n",
    "from sklearn.linear_model import LinearRegression, Ridge, Lasso, ElasticNet\n",
    "from sklearn.ensemble import RandomForestRegressor, GradientBoostingRegressor\n",
    "from xgboost import XGBRegressor\n",
    "from lightgbm import LGBMRegressor\n",
    "from sklearn.tree import DecisionTreeRegressor\n",
    "from sklearn.metrics import mean_squared_error\n",
    "from sklearn.preprocessing import PolynomialFeatures, MinMaxScaler, StandardScaler"
   ]
  },
  {
   "cell_type": "markdown",
   "id": "f5789c42",
   "metadata": {},
   "source": [
    "## 1. 데이터 불러오기"
   ]
  },
  {
   "cell_type": "code",
   "execution_count": 2,
   "id": "8d706f06",
   "metadata": {},
   "outputs": [
    {
     "data": {
      "text/plain": [
       "Index(['기준년도', '가입자일련번호', '성별코드', '연령대코드(5세단위)', '시도코드', '신장(5Cm단위)',\n",
       "       '체중(5Kg단위)', '허리둘레', '시력(좌)', '시력(우)', '청력(좌)', '청력(우)', '수축기혈압',\n",
       "       '이완기혈압', '식전혈당(공복혈당)', '총콜레스테롤', '트리글리세라이드', 'HDL콜레스테롤', 'LDL콜레스테롤',\n",
       "       '혈색소', '요단백', '혈청크레아티닌', '(혈청지오티)AST', '(혈청지오티)ALT', '감마지티피', '흡연상태',\n",
       "       '음주여부', '구강검진수검여부', '치아우식증유무', '결손치유무', '치아마모증유무', '제3대구치(사랑니)이상', '치석',\n",
       "       '데이터공개일자'],\n",
       "      dtype='object')"
      ]
     },
     "execution_count": 2,
     "metadata": {},
     "output_type": "execute_result"
    }
   ],
   "source": [
    "df = pd.read_csv('C:/Users/sja95/OneDrive/바탕 화면/dataset/건강검진2017.csv', encoding = 'euc-KR')\n",
    "\n",
    "df.columns"
   ]
  },
  {
   "cell_type": "code",
   "execution_count": 3,
   "id": "e1dc1d28",
   "metadata": {},
   "outputs": [],
   "source": [
    "df = df[['성별코드','연령대코드(5세단위)','신장(5Cm단위)','체중(5Kg단위)','허리둘레','흡연상태','음주여부','식전혈당(공복혈당)']]\n",
    "df.columns = ['sex','age','ht','wt','waist','smoking','alcohol','fbs']"
   ]
  },
  {
   "cell_type": "markdown",
   "id": "b4915f62",
   "metadata": {},
   "source": [
    "## 2. 데이터 전처리\n",
    "\n",
    "### 1) 결측값 제거"
   ]
  },
  {
   "cell_type": "code",
   "execution_count": 4,
   "id": "5b78856c",
   "metadata": {},
   "outputs": [
    {
     "name": "stdout",
     "output_type": "stream",
     "text": [
      "<class 'pandas.core.frame.DataFrame'>\n",
      "Int64Index: 999062 entries, 0 to 999999\n",
      "Data columns (total 8 columns):\n",
      " #   Column   Non-Null Count   Dtype  \n",
      "---  ------   --------------   -----  \n",
      " 0   sex      999062 non-null  int64  \n",
      " 1   age      999062 non-null  int64  \n",
      " 2   ht       999062 non-null  int64  \n",
      " 3   wt       999062 non-null  int64  \n",
      " 4   waist    999062 non-null  float64\n",
      " 5   smoking  999062 non-null  float64\n",
      " 6   alcohol  999062 non-null  object \n",
      " 7   fbs      999062 non-null  float64\n",
      "dtypes: float64(3), int64(4), object(1)\n",
      "memory usage: 68.6+ MB\n"
     ]
    }
   ],
   "source": [
    "df = df.dropna(axis = 0)\n",
    "df.info()"
   ]
  },
  {
   "cell_type": "markdown",
   "id": "b154ed33",
   "metadata": {},
   "source": [
    "### 2) bmi column 생성"
   ]
  },
  {
   "cell_type": "code",
   "execution_count": 5,
   "id": "7c1d6002",
   "metadata": {},
   "outputs": [],
   "source": [
    "df['bmi'] = df['wt'] / ((df['ht']/100)**2)"
   ]
  },
  {
   "cell_type": "markdown",
   "id": "6341c88d",
   "metadata": {},
   "source": [
    "### 3) absi columns 생성\n",
    "\n",
    "- 허리둘레 / (BMI * 2/3) * (ht * 1/2)"
   ]
  },
  {
   "cell_type": "code",
   "execution_count": 6,
   "id": "3b3b2eea",
   "metadata": {},
   "outputs": [
    {
     "data": {
      "text/html": [
       "<div>\n",
       "<style scoped>\n",
       "    .dataframe tbody tr th:only-of-type {\n",
       "        vertical-align: middle;\n",
       "    }\n",
       "\n",
       "    .dataframe tbody tr th {\n",
       "        vertical-align: top;\n",
       "    }\n",
       "\n",
       "    .dataframe thead th {\n",
       "        text-align: right;\n",
       "    }\n",
       "</style>\n",
       "<table border=\"1\" class=\"dataframe\">\n",
       "  <thead>\n",
       "    <tr style=\"text-align: right;\">\n",
       "      <th></th>\n",
       "      <th>sex</th>\n",
       "      <th>age</th>\n",
       "      <th>ht</th>\n",
       "      <th>wt</th>\n",
       "      <th>waist</th>\n",
       "      <th>smoking</th>\n",
       "      <th>alcohol</th>\n",
       "      <th>fbs</th>\n",
       "      <th>bmi</th>\n",
       "      <th>absi</th>\n",
       "    </tr>\n",
       "  </thead>\n",
       "  <tbody>\n",
       "    <tr>\n",
       "      <th>0</th>\n",
       "      <td>1</td>\n",
       "      <td>8</td>\n",
       "      <td>170</td>\n",
       "      <td>75</td>\n",
       "      <td>90.0</td>\n",
       "      <td>1.0</td>\n",
       "      <td>Y</td>\n",
       "      <td>99.0</td>\n",
       "      <td>25.95</td>\n",
       "      <td>3.10</td>\n",
       "    </tr>\n",
       "    <tr>\n",
       "      <th>1</th>\n",
       "      <td>1</td>\n",
       "      <td>7</td>\n",
       "      <td>180</td>\n",
       "      <td>80</td>\n",
       "      <td>89.0</td>\n",
       "      <td>3.0</td>\n",
       "      <td>N</td>\n",
       "      <td>106.0</td>\n",
       "      <td>24.69</td>\n",
       "      <td>3.08</td>\n",
       "    </tr>\n",
       "    <tr>\n",
       "      <th>2</th>\n",
       "      <td>1</td>\n",
       "      <td>9</td>\n",
       "      <td>165</td>\n",
       "      <td>75</td>\n",
       "      <td>91.0</td>\n",
       "      <td>1.0</td>\n",
       "      <td>N</td>\n",
       "      <td>98.0</td>\n",
       "      <td>27.55</td>\n",
       "      <td>3.06</td>\n",
       "    </tr>\n",
       "    <tr>\n",
       "      <th>3</th>\n",
       "      <td>1</td>\n",
       "      <td>11</td>\n",
       "      <td>175</td>\n",
       "      <td>80</td>\n",
       "      <td>91.0</td>\n",
       "      <td>1.0</td>\n",
       "      <td>N</td>\n",
       "      <td>95.0</td>\n",
       "      <td>26.12</td>\n",
       "      <td>3.08</td>\n",
       "    </tr>\n",
       "    <tr>\n",
       "      <th>4</th>\n",
       "      <td>1</td>\n",
       "      <td>11</td>\n",
       "      <td>165</td>\n",
       "      <td>60</td>\n",
       "      <td>80.0</td>\n",
       "      <td>1.0</td>\n",
       "      <td>N</td>\n",
       "      <td>101.0</td>\n",
       "      <td>22.04</td>\n",
       "      <td>3.12</td>\n",
       "    </tr>\n",
       "  </tbody>\n",
       "</table>\n",
       "</div>"
      ],
      "text/plain": [
       "   sex  age   ht  wt  waist  smoking alcohol    fbs    bmi  absi\n",
       "0    1    8  170  75   90.0      1.0       Y   99.0  25.95  3.10\n",
       "1    1    7  180  80   89.0      3.0       N  106.0  24.69  3.08\n",
       "2    1    9  165  75   91.0      1.0       N   98.0  27.55  3.06\n",
       "3    1   11  175  80   91.0      1.0       N   95.0  26.12  3.08\n",
       "4    1   11  165  60   80.0      1.0       N  101.0  22.04  3.12"
      ]
     },
     "execution_count": 6,
     "metadata": {},
     "output_type": "execute_result"
    }
   ],
   "source": [
    "df['absi'] = (df['waist']*0.393701) /((df['bmi']**0.6666) * ((df['ht']/100)**0.5))\n",
    "df = df.round(decimals = 2)\n",
    "\n",
    "df.head()"
   ]
  },
  {
   "cell_type": "markdown",
   "id": "77847dac",
   "metadata": {},
   "source": [
    "### 3) alcohol : str -> float형으로 변환"
   ]
  },
  {
   "cell_type": "code",
   "execution_count": 7,
   "id": "f68c8ea4",
   "metadata": {},
   "outputs": [],
   "source": [
    "df.loc[(df.alcohol=='Y'),'alcohol'] = 1.0\n",
    "df.loc[(df.alcohol=='N'), 'alcohol'] = 0.0\n",
    "\n",
    "df['alcohol'] = df.alcohol.astype(float)"
   ]
  },
  {
   "cell_type": "code",
   "execution_count": 8,
   "id": "a172095d",
   "metadata": {},
   "outputs": [
    {
     "name": "stdout",
     "output_type": "stream",
     "text": [
      "<class 'pandas.core.frame.DataFrame'>\n",
      "Int64Index: 999062 entries, 0 to 999999\n",
      "Data columns (total 10 columns):\n",
      " #   Column   Non-Null Count   Dtype  \n",
      "---  ------   --------------   -----  \n",
      " 0   sex      999062 non-null  int64  \n",
      " 1   age      999062 non-null  int64  \n",
      " 2   ht       999062 non-null  int64  \n",
      " 3   wt       999062 non-null  int64  \n",
      " 4   waist    999062 non-null  float64\n",
      " 5   smoking  999062 non-null  float64\n",
      " 6   alcohol  999062 non-null  float64\n",
      " 7   fbs      999062 non-null  float64\n",
      " 8   bmi      999062 non-null  float64\n",
      " 9   absi     999062 non-null  float64\n",
      "dtypes: float64(6), int64(4)\n",
      "memory usage: 83.8 MB\n"
     ]
    }
   ],
   "source": [
    "df_o = df.copy()\n",
    "\n",
    "df.info()"
   ]
  },
  {
   "cell_type": "markdown",
   "id": "6c6a0921",
   "metadata": {},
   "source": [
    "### 4) 이상값 제거\n",
    "\n",
    "- IQR = Q3 - Q1 \n",
    "- Q1 -3 * IQR => lower\n",
    "- Q3 + 3 * IQR => upper 로 설정\n",
    "- lower보다 작거나 upper보다 큰 값을 이상값으로 간주하고 제거\n",
    "\n",
    "- 변수마다 lower, upper 값을 확인하고 제거하는 과정을 거치면 다른 변수 lower/upper값에 영향을 줄 수 있음\n",
    "- 따라서, 변수 각각의 lower, upper 값을 미리 모두 확인 후 각 값에 맞춰 범위 외의 값을 제거해줌."
   ]
  },
  {
   "cell_type": "markdown",
   "id": "dd040b66",
   "metadata": {},
   "source": [
    "#### (1) lower / upper 값 구하기"
   ]
  },
  {
   "cell_type": "code",
   "execution_count": 9,
   "id": "26a7fb2e",
   "metadata": {},
   "outputs": [
    {
     "name": "stdout",
     "output_type": "stream",
     "text": [
      "======= bmi =======\n",
      "lower : 8.070000000000004\n",
      "upper : 39.36 \n",
      "\n",
      "======= waist =======\n",
      "lower : 32.999999999999986\n",
      "upper : 128.9 \n",
      "\n",
      "======= absi =======\n",
      "lower : 2.119999999999999\n",
      "upper : 3.940000000000001 \n",
      "\n",
      "======= fbs =======\n",
      "lower : 37.0\n",
      "upper : 156.0 \n",
      "\n"
     ]
    }
   ],
   "source": [
    "columns = ['bmi','waist', 'absi', 'fbs']\n",
    "\n",
    "for column in columns:\n",
    "    \n",
    "    print('=======', column, '=======')\n",
    "    \n",
    "    q25, q75 = np.quantile(df[column], 0.25), np.quantile(df[column], 0.75)\n",
    "    IQR = q75 - q25\n",
    "    \n",
    "    lower = q25 - IQR*3\n",
    "    upper = q75 + IQR*3\n",
    "    \n",
    "    print('lower :', lower)\n",
    "    print('upper :', upper, '\\n')\n",
    "    \n"
   ]
  },
  {
   "cell_type": "markdown",
   "id": "75d9fd01",
   "metadata": {},
   "source": [
    "#### (2) 이상값 제거"
   ]
  },
  {
   "cell_type": "code",
   "execution_count": 10,
   "id": "abefea29",
   "metadata": {},
   "outputs": [],
   "source": [
    "# bmi\n",
    "#df.drop(df.loc[(df['bmi']>39.36)|(df['bmi']<8.07)].index, inplace = True)\n",
    "\n",
    "# waist\n",
    "df.drop(df.loc[(df['waist']>128.9)|(df['waist']<55.0)].index, inplace = True)\n",
    "\n",
    "# absi\n",
    "df.drop(df.loc[(df['absi']>3.94)|(df['absi']<2.12)].index, inplace = True)\n",
    "\n",
    "# fbs\n",
    "#df.drop(df.loc[(df['fbs']>200.0)|(df['fbs']<37.0)].index, inplace = True)"
   ]
  },
  {
   "cell_type": "code",
   "execution_count": 11,
   "id": "3d3c16c7",
   "metadata": {},
   "outputs": [
    {
     "name": "stdout",
     "output_type": "stream",
     "text": [
      "<class 'pandas.core.frame.DataFrame'>\n",
      "Int64Index: 998122 entries, 0 to 999999\n",
      "Data columns (total 10 columns):\n",
      " #   Column   Non-Null Count   Dtype  \n",
      "---  ------   --------------   -----  \n",
      " 0   sex      998122 non-null  int64  \n",
      " 1   age      998122 non-null  int64  \n",
      " 2   ht       998122 non-null  int64  \n",
      " 3   wt       998122 non-null  int64  \n",
      " 4   waist    998122 non-null  float64\n",
      " 5   smoking  998122 non-null  float64\n",
      " 6   alcohol  998122 non-null  float64\n",
      " 7   fbs      998122 non-null  float64\n",
      " 8   bmi      998122 non-null  float64\n",
      " 9   absi     998122 non-null  float64\n",
      "dtypes: float64(6), int64(4)\n",
      "memory usage: 83.8 MB\n"
     ]
    }
   ],
   "source": [
    "df.info()"
   ]
  },
  {
   "cell_type": "markdown",
   "id": "60367d82",
   "metadata": {},
   "source": [
    "## 2. Scaling\n",
    "\n",
    "- 표준화(Standardization)\n",
    "- 정규화(Normalization)\n",
    "- 로그변환(log) => target"
   ]
  },
  {
   "cell_type": "markdown",
   "id": "089fc227",
   "metadata": {},
   "source": [
    "### 1) 표준화 : df_s"
   ]
  },
  {
   "cell_type": "code",
   "execution_count": 16,
   "id": "b324e873",
   "metadata": {},
   "outputs": [
    {
     "name": "stdout",
     "output_type": "stream",
     "text": [
      "<class 'pandas.core.frame.DataFrame'>\n",
      "Int64Index: 998122 entries, 0 to 999999\n",
      "Data columns (total 9 columns):\n",
      " #   Column   Non-Null Count   Dtype  \n",
      "---  ------   --------------   -----  \n",
      " 0   sex      998122 non-null  int64  \n",
      " 1   age      998122 non-null  int64  \n",
      " 2   wt       998122 non-null  int64  \n",
      " 3   smoking  998122 non-null  float64\n",
      " 4   alcohol  998122 non-null  float64\n",
      " 5   fbs      998122 non-null  float64\n",
      " 6   bmi      998122 non-null  float64\n",
      " 7   waist    998122 non-null  float64\n",
      " 8   absi     998122 non-null  float64\n",
      "dtypes: float64(6), int64(3)\n",
      "memory usage: 76.2 MB\n",
      "None\n"
     ]
    },
    {
     "data": {
      "text/html": [
       "<div>\n",
       "<style scoped>\n",
       "    .dataframe tbody tr th:only-of-type {\n",
       "        vertical-align: middle;\n",
       "    }\n",
       "\n",
       "    .dataframe tbody tr th {\n",
       "        vertical-align: top;\n",
       "    }\n",
       "\n",
       "    .dataframe thead th {\n",
       "        text-align: right;\n",
       "    }\n",
       "</style>\n",
       "<table border=\"1\" class=\"dataframe\">\n",
       "  <thead>\n",
       "    <tr style=\"text-align: right;\">\n",
       "      <th></th>\n",
       "      <th>sex</th>\n",
       "      <th>age</th>\n",
       "      <th>wt</th>\n",
       "      <th>smoking</th>\n",
       "      <th>alcohol</th>\n",
       "      <th>fbs</th>\n",
       "      <th>bmi</th>\n",
       "      <th>waist</th>\n",
       "      <th>absi</th>\n",
       "    </tr>\n",
       "  </thead>\n",
       "  <tbody>\n",
       "    <tr>\n",
       "      <th>0</th>\n",
       "      <td>1</td>\n",
       "      <td>8</td>\n",
       "      <td>75</td>\n",
       "      <td>1.0</td>\n",
       "      <td>1.0</td>\n",
       "      <td>99.0</td>\n",
       "      <td>0.578401</td>\n",
       "      <td>0.920789</td>\n",
       "      <td>0.339865</td>\n",
       "    </tr>\n",
       "    <tr>\n",
       "      <th>1</th>\n",
       "      <td>1</td>\n",
       "      <td>7</td>\n",
       "      <td>80</td>\n",
       "      <td>3.0</td>\n",
       "      <td>0.0</td>\n",
       "      <td>106.0</td>\n",
       "      <td>0.219741</td>\n",
       "      <td>0.816375</td>\n",
       "      <td>0.239229</td>\n",
       "    </tr>\n",
       "    <tr>\n",
       "      <th>2</th>\n",
       "      <td>1</td>\n",
       "      <td>9</td>\n",
       "      <td>75</td>\n",
       "      <td>1.0</td>\n",
       "      <td>0.0</td>\n",
       "      <td>98.0</td>\n",
       "      <td>1.033841</td>\n",
       "      <td>1.025202</td>\n",
       "      <td>0.138593</td>\n",
       "    </tr>\n",
       "    <tr>\n",
       "      <th>3</th>\n",
       "      <td>1</td>\n",
       "      <td>11</td>\n",
       "      <td>80</td>\n",
       "      <td>1.0</td>\n",
       "      <td>0.0</td>\n",
       "      <td>95.0</td>\n",
       "      <td>0.626791</td>\n",
       "      <td>1.025202</td>\n",
       "      <td>0.239229</td>\n",
       "    </tr>\n",
       "    <tr>\n",
       "      <th>4</th>\n",
       "      <td>1</td>\n",
       "      <td>11</td>\n",
       "      <td>60</td>\n",
       "      <td>1.0</td>\n",
       "      <td>0.0</td>\n",
       "      <td>101.0</td>\n",
       "      <td>-0.534581</td>\n",
       "      <td>-0.123345</td>\n",
       "      <td>0.440502</td>\n",
       "    </tr>\n",
       "  </tbody>\n",
       "</table>\n",
       "</div>"
      ],
      "text/plain": [
       "   sex  age  wt  smoking  alcohol    fbs       bmi     waist      absi\n",
       "0    1    8  75      1.0      1.0   99.0  0.578401  0.920789  0.339865\n",
       "1    1    7  80      3.0      0.0  106.0  0.219741  0.816375  0.239229\n",
       "2    1    9  75      1.0      0.0   98.0  1.033841  1.025202  0.138593\n",
       "3    1   11  80      1.0      0.0   95.0  0.626791  1.025202  0.239229\n",
       "4    1   11  60      1.0      0.0  101.0 -0.534581 -0.123345  0.440502"
      ]
     },
     "execution_count": 16,
     "metadata": {},
     "output_type": "execute_result"
    }
   ],
   "source": [
    "scaler2 = StandardScaler()\n",
    "\n",
    "x_bmi = scaler2.fit_transform(df[['bmi']])\n",
    "x_waist = scaler2.fit_transform(df[['waist']])\n",
    "x_absi = scaler2.fit_transform(df[['absi']])\n",
    "\n",
    "df_s = df[['sex','age','wt','smoking','alcohol','fbs']]\n",
    "\n",
    "df_s['bmi'] = x_bmi\n",
    "df_s['waist'] = x_waist\n",
    "df_s['absi'] = x_absi\n",
    "\n",
    "\n",
    "print(df_s.info())\n",
    "df_s.head()"
   ]
  },
  {
   "cell_type": "markdown",
   "id": "0cfbde42",
   "metadata": {},
   "source": [
    "### 2) 정규화 : df_n"
   ]
  },
  {
   "cell_type": "code",
   "execution_count": 37,
   "id": "913371e4",
   "metadata": {},
   "outputs": [
    {
     "name": "stdout",
     "output_type": "stream",
     "text": [
      "<class 'pandas.core.frame.DataFrame'>\n",
      "Int64Index: 987176 entries, 0 to 999999\n",
      "Data columns (total 10 columns):\n",
      " #   Column   Non-Null Count   Dtype  \n",
      "---  ------   --------------   -----  \n",
      " 0   sex      987176 non-null  int64  \n",
      " 1   age      987176 non-null  int64  \n",
      " 2   ht       987176 non-null  int64  \n",
      " 3   wt       987176 non-null  int64  \n",
      " 4   smoking  987176 non-null  float64\n",
      " 5   alcohol  987176 non-null  float64\n",
      " 6   fbs      987176 non-null  float64\n",
      " 7   bmi      987176 non-null  float64\n",
      " 8   waist    987176 non-null  float64\n",
      " 9   absi     987176 non-null  float64\n",
      "dtypes: float64(6), int64(4)\n",
      "memory usage: 82.8 MB\n",
      "None\n"
     ]
    },
    {
     "data": {
      "text/html": [
       "<div>\n",
       "<style scoped>\n",
       "    .dataframe tbody tr th:only-of-type {\n",
       "        vertical-align: middle;\n",
       "    }\n",
       "\n",
       "    .dataframe tbody tr th {\n",
       "        vertical-align: top;\n",
       "    }\n",
       "\n",
       "    .dataframe thead th {\n",
       "        text-align: right;\n",
       "    }\n",
       "</style>\n",
       "<table border=\"1\" class=\"dataframe\">\n",
       "  <thead>\n",
       "    <tr style=\"text-align: right;\">\n",
       "      <th></th>\n",
       "      <th>sex</th>\n",
       "      <th>age</th>\n",
       "      <th>ht</th>\n",
       "      <th>wt</th>\n",
       "      <th>smoking</th>\n",
       "      <th>alcohol</th>\n",
       "      <th>fbs</th>\n",
       "      <th>bmi</th>\n",
       "      <th>waist</th>\n",
       "      <th>absi</th>\n",
       "    </tr>\n",
       "  </thead>\n",
       "  <tbody>\n",
       "    <tr>\n",
       "      <th>0</th>\n",
       "      <td>1</td>\n",
       "      <td>8</td>\n",
       "      <td>170</td>\n",
       "      <td>75</td>\n",
       "      <td>1.0</td>\n",
       "      <td>1.0</td>\n",
       "      <td>99.0</td>\n",
       "      <td>0.504309</td>\n",
       "      <td>0.479452</td>\n",
       "      <td>0.538462</td>\n",
       "    </tr>\n",
       "    <tr>\n",
       "      <th>1</th>\n",
       "      <td>1</td>\n",
       "      <td>7</td>\n",
       "      <td>180</td>\n",
       "      <td>80</td>\n",
       "      <td>3.0</td>\n",
       "      <td>0.0</td>\n",
       "      <td>106.0</td>\n",
       "      <td>0.457100</td>\n",
       "      <td>0.465753</td>\n",
       "      <td>0.527473</td>\n",
       "    </tr>\n",
       "    <tr>\n",
       "      <th>2</th>\n",
       "      <td>1</td>\n",
       "      <td>9</td>\n",
       "      <td>165</td>\n",
       "      <td>75</td>\n",
       "      <td>1.0</td>\n",
       "      <td>0.0</td>\n",
       "      <td>98.0</td>\n",
       "      <td>0.564256</td>\n",
       "      <td>0.493151</td>\n",
       "      <td>0.516484</td>\n",
       "    </tr>\n",
       "    <tr>\n",
       "      <th>3</th>\n",
       "      <td>1</td>\n",
       "      <td>11</td>\n",
       "      <td>175</td>\n",
       "      <td>80</td>\n",
       "      <td>1.0</td>\n",
       "      <td>0.0</td>\n",
       "      <td>95.0</td>\n",
       "      <td>0.510678</td>\n",
       "      <td>0.493151</td>\n",
       "      <td>0.527473</td>\n",
       "    </tr>\n",
       "    <tr>\n",
       "      <th>4</th>\n",
       "      <td>1</td>\n",
       "      <td>11</td>\n",
       "      <td>165</td>\n",
       "      <td>60</td>\n",
       "      <td>1.0</td>\n",
       "      <td>0.0</td>\n",
       "      <td>101.0</td>\n",
       "      <td>0.357812</td>\n",
       "      <td>0.342466</td>\n",
       "      <td>0.549451</td>\n",
       "    </tr>\n",
       "  </tbody>\n",
       "</table>\n",
       "</div>"
      ],
      "text/plain": [
       "   sex  age   ht  wt  smoking  alcohol    fbs       bmi     waist      absi\n",
       "0    1    8  170  75      1.0      1.0   99.0  0.504309  0.479452  0.538462\n",
       "1    1    7  180  80      3.0      0.0  106.0  0.457100  0.465753  0.527473\n",
       "2    1    9  165  75      1.0      0.0   98.0  0.564256  0.493151  0.516484\n",
       "3    1   11  175  80      1.0      0.0   95.0  0.510678  0.493151  0.527473\n",
       "4    1   11  165  60      1.0      0.0  101.0  0.357812  0.342466  0.549451"
      ]
     },
     "execution_count": 37,
     "metadata": {},
     "output_type": "execute_result"
    }
   ],
   "source": [
    "scaler1 = MinMaxScaler()\n",
    "\n",
    "x_bmi = scaler1.fit_transform(df[['bmi']])\n",
    "x_waist = scaler1.fit_transform(df[['waist']])\n",
    "x_absi = scaler1.fit_transform(df[['absi']])\n",
    "\n",
    "df_n = df[['sex','age','ht','wt','smoking','alcohol', 'fbs']]\n",
    "\n",
    "df_n['bmi'] = x_bmi\n",
    "df_n['waist'] = x_waist\n",
    "df_n['absi'] = x_absi\n",
    "\n",
    "print(df_n.info())\n",
    "df_n.head()\n"
   ]
  },
  {
   "cell_type": "code",
   "execution_count": 18,
   "id": "34e90e01",
   "metadata": {},
   "outputs": [
    {
     "data": {
      "text/html": [
       "<div>\n",
       "<style scoped>\n",
       "    .dataframe tbody tr th:only-of-type {\n",
       "        vertical-align: middle;\n",
       "    }\n",
       "\n",
       "    .dataframe tbody tr th {\n",
       "        vertical-align: top;\n",
       "    }\n",
       "\n",
       "    .dataframe thead th {\n",
       "        text-align: right;\n",
       "    }\n",
       "</style>\n",
       "<table border=\"1\" class=\"dataframe\">\n",
       "  <thead>\n",
       "    <tr style=\"text-align: right;\">\n",
       "      <th></th>\n",
       "      <th>sex</th>\n",
       "      <th>age</th>\n",
       "      <th>ht</th>\n",
       "      <th>wt</th>\n",
       "      <th>waist</th>\n",
       "      <th>smoking</th>\n",
       "      <th>alcohol</th>\n",
       "      <th>fbs</th>\n",
       "      <th>bmi</th>\n",
       "      <th>absi</th>\n",
       "      <th>fbs_log</th>\n",
       "    </tr>\n",
       "  </thead>\n",
       "  <tbody>\n",
       "    <tr>\n",
       "      <th>0</th>\n",
       "      <td>1</td>\n",
       "      <td>8</td>\n",
       "      <td>170</td>\n",
       "      <td>75</td>\n",
       "      <td>90.0</td>\n",
       "      <td>1.0</td>\n",
       "      <td>1.0</td>\n",
       "      <td>99.0</td>\n",
       "      <td>25.95</td>\n",
       "      <td>3.10</td>\n",
       "      <td>4.605170</td>\n",
       "    </tr>\n",
       "    <tr>\n",
       "      <th>1</th>\n",
       "      <td>1</td>\n",
       "      <td>7</td>\n",
       "      <td>180</td>\n",
       "      <td>80</td>\n",
       "      <td>89.0</td>\n",
       "      <td>3.0</td>\n",
       "      <td>0.0</td>\n",
       "      <td>106.0</td>\n",
       "      <td>24.69</td>\n",
       "      <td>3.08</td>\n",
       "      <td>4.672829</td>\n",
       "    </tr>\n",
       "    <tr>\n",
       "      <th>2</th>\n",
       "      <td>1</td>\n",
       "      <td>9</td>\n",
       "      <td>165</td>\n",
       "      <td>75</td>\n",
       "      <td>91.0</td>\n",
       "      <td>1.0</td>\n",
       "      <td>0.0</td>\n",
       "      <td>98.0</td>\n",
       "      <td>27.55</td>\n",
       "      <td>3.06</td>\n",
       "      <td>4.595120</td>\n",
       "    </tr>\n",
       "    <tr>\n",
       "      <th>3</th>\n",
       "      <td>1</td>\n",
       "      <td>11</td>\n",
       "      <td>175</td>\n",
       "      <td>80</td>\n",
       "      <td>91.0</td>\n",
       "      <td>1.0</td>\n",
       "      <td>0.0</td>\n",
       "      <td>95.0</td>\n",
       "      <td>26.12</td>\n",
       "      <td>3.08</td>\n",
       "      <td>4.564348</td>\n",
       "    </tr>\n",
       "    <tr>\n",
       "      <th>4</th>\n",
       "      <td>1</td>\n",
       "      <td>11</td>\n",
       "      <td>165</td>\n",
       "      <td>60</td>\n",
       "      <td>80.0</td>\n",
       "      <td>1.0</td>\n",
       "      <td>0.0</td>\n",
       "      <td>101.0</td>\n",
       "      <td>22.04</td>\n",
       "      <td>3.12</td>\n",
       "      <td>4.624973</td>\n",
       "    </tr>\n",
       "  </tbody>\n",
       "</table>\n",
       "</div>"
      ],
      "text/plain": [
       "   sex  age   ht  wt  waist  smoking  alcohol    fbs    bmi  absi   fbs_log\n",
       "0    1    8  170  75   90.0      1.0      1.0   99.0  25.95  3.10  4.605170\n",
       "1    1    7  180  80   89.0      3.0      0.0  106.0  24.69  3.08  4.672829\n",
       "2    1    9  165  75   91.0      1.0      0.0   98.0  27.55  3.06  4.595120\n",
       "3    1   11  175  80   91.0      1.0      0.0   95.0  26.12  3.08  4.564348\n",
       "4    1   11  165  60   80.0      1.0      0.0  101.0  22.04  3.12  4.624973"
      ]
     },
     "execution_count": 18,
     "metadata": {},
     "output_type": "execute_result"
    }
   ],
   "source": [
    "# fbs - 로그변환\n",
    "\n",
    "df['fbs_log'] = np.log1p(df['fbs'])\n",
    "\n",
    "df.head()"
   ]
  },
  {
   "cell_type": "code",
   "execution_count": 19,
   "id": "2b841073",
   "metadata": {},
   "outputs": [
    {
     "data": {
      "image/png": "[encoded data removed]",
      "text/plain": [
       "<Figure size 864x432 with 1 Axes>"
      ]
     },
     "metadata": {
      "needs_background": "light"
     },
     "output_type": "display_data"
    }
   ],
   "source": [
    "plt.figure(figsize = (12,6))\n",
    "sns.distplot(df.fbs_log, hist = True, kde = True)\n",
    "plt.show()"
   ]
  },
  {
   "cell_type": "markdown",
   "id": "f1629743",
   "metadata": {},
   "source": [
    "# 3. Modeling "
   ]
  },
  {
   "cell_type": "markdown",
   "id": "cbe53ac6",
   "metadata": {},
   "source": [
    "## 1) Linear Regression_원본"
   ]
  },
  {
   "cell_type": "code",
   "execution_count": 50,
   "id": "1207624a",
   "metadata": {},
   "outputs": [
    {
     "name": "stdout",
     "output_type": "stream",
     "text": [
      "rmse :  16.48639862455012\n"
     ]
    }
   ],
   "source": [
    "## 1. split\n",
    "\n",
    "X = df[['sex','age','absi','wt','bmi','waist','ht','smoking','alcohol']]\n",
    "y = df['fbs']\n",
    "\n",
    "X_train, X_test, y_train, y_test = train_test_split(X, y, test_size = 0.3, random_state = 2045)\n",
    "\n",
    "X_train.shape, X_test.shape, y_train.shape, y_test.shape\n",
    "\n",
    "## 2. fit \n",
    "\n",
    "RA = LinearRegression()\n",
    "RA.fit(X_train, y_train)\n",
    "\n",
    "## 3. Predict\n",
    "\n",
    "y_hat = RA.predict(X_test)\n",
    "\n",
    "## 4. Root MSE \n",
    "\n",
    "rmse = np.sqrt(mean_squared_error(y_test, y_hat))\n",
    "\n",
    "print('rmse : ', rmse)"
   ]
  },
  {
   "cell_type": "code",
   "execution_count": 23,
   "id": "e1dd799b",
   "metadata": {},
   "outputs": [
    {
     "data": {
      "text/plain": [
       "((699343, 9), (299719, 9), (699343,), (299719,))"
      ]
     },
     "execution_count": 23,
     "metadata": {},
     "output_type": "execute_result"
    }
   ],
   "source": [
    "## 1. split\n",
    "\n",
    "X = df_o[['sex','age','bmi','ht','wt','waist','absi','smoking','alcohol']]\n",
    "y = df_o['fbs']\n",
    "\n",
    "X_train, X_test, y_train, y_test = train_test_split(X, y, test_size = 0.3, random_state = 2045)\n",
    "\n",
    "X_train.shape, X_test.shape, y_train.shape, y_test.shape"
   ]
  },
  {
   "cell_type": "code",
   "execution_count": 24,
   "id": "e64d8846",
   "metadata": {},
   "outputs": [
    {
     "name": "stdout",
     "output_type": "stream",
     "text": [
      "rmse :  23.211278386008217\n"
     ]
    }
   ],
   "source": [
    "## 2. fit \n",
    "\n",
    "RA = LinearRegression()\n",
    "RA.fit(X_train, y_train)\n",
    "\n",
    "## 3. Predict\n",
    "\n",
    "y_hat = RA.predict(X_test)\n",
    "\n",
    "## 4. Root MSE \n",
    "\n",
    "rmse = np.sqrt(mean_squared_error(y_test, y_hat))\n",
    "\n",
    "print('rmse : ', rmse)"
   ]
  },
  {
   "cell_type": "code",
   "execution_count": 40,
   "id": "ea22894f",
   "metadata": {},
   "outputs": [
    {
     "data": {
      "text/plain": [
       "<AxesSubplot:>"
      ]
     },
     "execution_count": 40,
     "metadata": {},
     "output_type": "execute_result"
    },
    {
     "data": {
      "image/png": "[encoded data removed]",
      "text/plain": [
       "<Figure size 432x288 with 1 Axes>"
      ]
     },
     "metadata": {
      "needs_background": "light"
     },
     "output_type": "display_data"
    }
   ],
   "source": [
    "coef = pd.Series(RA.coef_, index = X_train.columns)\n",
    "sns.barplot(x = coef.values, y = coef.index)"
   ]
  },
  {
   "cell_type": "markdown",
   "id": "fcb3535e",
   "metadata": {},
   "source": [
    "## 1-1) Linear Regression_표준화"
   ]
  },
  {
   "cell_type": "code",
   "execution_count": 51,
   "id": "dd70012d",
   "metadata": {},
   "outputs": [
    {
     "data": {
      "text/plain": [
       "((691023, 9), (296153, 9), (691023,), (296153,))"
      ]
     },
     "execution_count": 51,
     "metadata": {},
     "output_type": "execute_result"
    }
   ],
   "source": [
    "## 1. split\n",
    "\n",
    "X = df_s[['sex','age','bmi','ht','wt','waist','absi','smoking','alcohol']]\n",
    "y = df_s['fbs']\n",
    "\n",
    "X_train, X_test, y_train, y_test = train_test_split(X, y, test_size = 0.3, random_state = 2045)\n",
    "\n",
    "X_train.shape, X_test.shape, y_train.shape, y_test.shape"
   ]
  },
  {
   "cell_type": "code",
   "execution_count": 52,
   "id": "6ddb42ac",
   "metadata": {},
   "outputs": [
    {
     "name": "stdout",
     "output_type": "stream",
     "text": [
      "rmse :  16.486398624550116\n"
     ]
    }
   ],
   "source": [
    "## 2. fit \n",
    "\n",
    "RA = LinearRegression()\n",
    "RA.fit(X_train, y_train)\n",
    "\n",
    "## 3. Predict\n",
    "\n",
    "y_hat = RA.predict(X_test)\n",
    "\n",
    "## 4. Root MSE \n",
    "\n",
    "rmse = np.sqrt(mean_squared_error(y_test, y_hat))\n",
    "\n",
    "print('rmse : ', rmse)"
   ]
  },
  {
   "cell_type": "code",
   "execution_count": 53,
   "id": "ec27e1fe",
   "metadata": {},
   "outputs": [
    {
     "data": {
      "text/plain": [
       "<AxesSubplot:>"
      ]
     },
     "execution_count": 53,
     "metadata": {},
     "output_type": "execute_result"
    },
    {
     "data": {
      "image/png": "[encoded data removed]",
      "text/plain": [
       "<Figure size 432x288 with 1 Axes>"
      ]
     },
     "metadata": {
      "needs_background": "light"
     },
     "output_type": "display_data"
    }
   ],
   "source": [
    "coef = pd.Series(RA.coef_, index = X_train.columns)\n",
    "sns.barplot(x = coef.values, y = coef.index)"
   ]
  },
  {
   "cell_type": "markdown",
   "id": "f38e0ce4",
   "metadata": {},
   "source": [
    "## 1-2) Linear Regression_정규화"
   ]
  },
  {
   "cell_type": "code",
   "execution_count": 54,
   "id": "dc294a01",
   "metadata": {},
   "outputs": [
    {
     "data": {
      "text/plain": [
       "((691023, 9), (296153, 9), (691023,), (296153,))"
      ]
     },
     "execution_count": 54,
     "metadata": {},
     "output_type": "execute_result"
    }
   ],
   "source": [
    "## 1. split\n",
    "\n",
    "X = df_n[['sex','age','ht','wt','bmi','absi','waist','smoking','alcohol']]\n",
    "y = df_n['fbs']\n",
    "\n",
    "X_train, X_test, y_train, y_test = train_test_split(X, y, test_size = 0.3, random_state = 2045)\n",
    "\n",
    "X_train.shape, X_test.shape, y_train.shape, y_test.shape"
   ]
  },
  {
   "cell_type": "code",
   "execution_count": 55,
   "id": "ef122dcf",
   "metadata": {},
   "outputs": [
    {
     "name": "stdout",
     "output_type": "stream",
     "text": [
      "rmse :  16.48639862455012\n"
     ]
    }
   ],
   "source": [
    "## 2. fit \n",
    "\n",
    "RA = LinearRegression()\n",
    "RA.fit(X_train, y_train)\n",
    "\n",
    "## 3. Predict\n",
    "\n",
    "y_hat = RA.predict(X_test)\n",
    "\n",
    "## 4. Root MSE \n",
    "\n",
    "rmse = np.sqrt(mean_squared_error(y_test, y_hat))\n",
    "\n",
    "print('rmse : ', rmse)"
   ]
  },
  {
   "cell_type": "code",
   "execution_count": 56,
   "id": "17947b47",
   "metadata": {},
   "outputs": [
    {
     "data": {
      "text/plain": [
       "<AxesSubplot:>"
      ]
     },
     "execution_count": 56,
     "metadata": {},
     "output_type": "execute_result"
    },
    {
     "data": {
      "image/png": "[encoded data removed]",
      "text/plain": [
       "<Figure size 432x288 with 1 Axes>"
      ]
     },
     "metadata": {
      "needs_background": "light"
     },
     "output_type": "display_data"
    }
   ],
   "source": [
    "coef = pd.Series(RA.coef_, index = X_train.columns)\n",
    "sns.barplot(x = coef.values, y = coef.index)"
   ]
  },
  {
   "cell_type": "markdown",
   "id": "90dc0670",
   "metadata": {},
   "source": [
    "## 1-3) Linear Regression_이상치제거"
   ]
  },
  {
   "cell_type": "code",
   "execution_count": 57,
   "id": "52165937",
   "metadata": {},
   "outputs": [
    {
     "data": {
      "text/plain": [
       "((691023, 9), (296153, 9), (691023,), (296153,))"
      ]
     },
     "execution_count": 57,
     "metadata": {},
     "output_type": "execute_result"
    }
   ],
   "source": [
    "## 1. split\n",
    "\n",
    "X = df[['sex','age','ht','wt','bmi','absi','waist','smoking','alcohol']]\n",
    "y = df['fbs']\n",
    "\n",
    "X_train, X_test, y_train, y_test = train_test_split(X, y, test_size = 0.3, random_state = 2045)\n",
    "\n",
    "X_train.shape, X_test.shape, y_train.shape, y_test.shape"
   ]
  },
  {
   "cell_type": "code",
   "execution_count": 58,
   "id": "d761d6c2",
   "metadata": {},
   "outputs": [
    {
     "name": "stdout",
     "output_type": "stream",
     "text": [
      "rmse :  16.486398624550116\n"
     ]
    }
   ],
   "source": [
    "## 2. fit \n",
    "\n",
    "RA = LinearRegression()\n",
    "RA.fit(X_train, y_train)\n",
    "\n",
    "## 3. Predict\n",
    "\n",
    "y_hat = RA.predict(X_test)\n",
    "\n",
    "## 4. Root MSE \n",
    "\n",
    "rmse = np.sqrt(mean_squared_error(y_test, y_hat))\n",
    "\n",
    "print('rmse : ', rmse)"
   ]
  },
  {
   "cell_type": "code",
   "execution_count": 243,
   "id": "1cdcc1d9",
   "metadata": {},
   "outputs": [
    {
     "data": {
      "text/plain": [
       "<AxesSubplot:>"
      ]
     },
     "execution_count": 243,
     "metadata": {},
     "output_type": "execute_result"
    },
    {
     "data": {
      "image/png": "[encoded data removed]",
      "text/plain": [
       "<Figure size 432x288 with 1 Axes>"
      ]
     },
     "metadata": {
      "needs_background": "light"
     },
     "output_type": "display_data"
    }
   ],
   "source": [
    "coef = pd.Series(RA.coef_, index = X_train.columns)\n",
    "sns.barplot(x = coef.values, y = coef.index)"
   ]
  },
  {
   "cell_type": "markdown",
   "id": "7e9d42e4",
   "metadata": {},
   "source": [
    "## 1-4) Linear Regression _ log변환"
   ]
  },
  {
   "cell_type": "code",
   "execution_count": 23,
   "id": "07cf98c7",
   "metadata": {},
   "outputs": [
    {
     "name": "stdout",
     "output_type": "stream",
     "text": [
      "4.61512051684126\n",
      "100.00000000000003\n"
     ]
    }
   ],
   "source": [
    "print(np.log1p(100))\n",
    "print(np.expm1(np.log1p(100)))"
   ]
  },
  {
   "cell_type": "code",
   "execution_count": 28,
   "id": "40e463a9",
   "metadata": {},
   "outputs": [
    {
     "data": {
      "text/plain": [
       "261948    4.605170\n",
       "703231    4.584967\n",
       "602833    4.934474\n",
       "910743    4.795791\n",
       "214555    4.510860\n",
       "            ...   \n",
       "426417    4.430817\n",
       "563438    4.564348\n",
       "100507    4.276666\n",
       "564470    4.564348\n",
       "495145    4.382027\n",
       "Name: fbs_log, Length: 299437, dtype: float64"
      ]
     },
     "execution_count": 28,
     "metadata": {},
     "output_type": "execute_result"
    }
   ],
   "source": [
    "X_test\n",
    "y_test"
   ]
  },
  {
   "cell_type": "code",
   "execution_count": 29,
   "id": "1b7e4445",
   "metadata": {},
   "outputs": [
    {
     "data": {
      "text/plain": [
       "0         4.605170\n",
       "1         4.584967\n",
       "2         4.934474\n",
       "3         4.795791\n",
       "4         4.510860\n",
       "            ...   \n",
       "299432    4.430817\n",
       "299433    4.564348\n",
       "299434    4.276666\n",
       "299435    4.564348\n",
       "299436    4.382027\n",
       "Name: fbs_log, Length: 299437, dtype: float64"
      ]
     },
     "execution_count": 29,
     "metadata": {},
     "output_type": "execute_result"
    }
   ],
   "source": [
    "X_test.reset_index(drop = True, inplace = True)\n",
    "X_test\n",
    "\n",
    "y_test.reset_index(drop = True, inplace = True)\n",
    "y_test"
   ]
  },
  {
   "cell_type": "code",
   "execution_count": 22,
   "id": "4aeb276b",
   "metadata": {},
   "outputs": [
    {
     "name": "stdout",
     "output_type": "stream",
     "text": [
      "rmse :  0.17380164502476\n",
      "rmse -> 원래의 수치 :  0.18981953578770966\n"
     ]
    },
    {
     "data": {
      "text/plain": [
       "<AxesSubplot:>"
      ]
     },
     "execution_count": 22,
     "metadata": {},
     "output_type": "execute_result"
    },
    {
     "data": {
      "image/png": "[encoded data removed]",
      "text/plain": [
       "<Figure size 432x288 with 1 Axes>"
      ]
     },
     "metadata": {
      "needs_background": "light"
     },
     "output_type": "display_data"
    }
   ],
   "source": [
    "## 1. split\n",
    "\n",
    "X = df[['sex','age','ht','wt','bmi','absi','waist','smoking','alcohol']]\n",
    "y = df['fbs_log']\n",
    "\n",
    "X_train, X_test, y_train, y_test = train_test_split(X, y, test_size = 0.3, random_state = 2045)\n",
    "\n",
    "## 2. fit \n",
    "\n",
    "RA = LinearRegression()\n",
    "RA.fit(X_train, y_train)\n",
    "\n",
    "## 3. Predict\n",
    "\n",
    "y_hat = RA.predict(X_test)\n",
    "\n",
    "## 4. Root MSE \n",
    "\n",
    "rmse = np.sqrt(mean_squared_error(y_test, y_hat))\n",
    "\n",
    "print('rmse : ', rmse)\n",
    "\n",
    "\n",
    "coef = pd.Series(RA.coef_, index = X_train.columns)\n",
    "sns.barplot(x = coef.values, y = coef.index)"
   ]
  },
  {
   "cell_type": "markdown",
   "id": "f2389683",
   "metadata": {},
   "source": [
    "## 2-1) ( Polynomial ) Linear Regression2차_이상치제거"
   ]
  },
  {
   "cell_type": "code",
   "execution_count": 59,
   "id": "52f1dfb9",
   "metadata": {},
   "outputs": [
    {
     "data": {
      "text/plain": [
       "((699343, 9), (299719, 9), (699343,), (299719,))"
      ]
     },
     "execution_count": 59,
     "metadata": {},
     "output_type": "execute_result"
    }
   ],
   "source": [
    "## 1. split\n",
    "\n",
    "X = df_o[['sex','age','bmi','ht','wt','waist','absi','smoking','alcohol']]\n",
    "y = df_o['fbs']\n",
    "\n",
    "X_train, X_test, y_train, y_test = train_test_split(X, y, test_size = 0.3, random_state = 2045)\n",
    "\n",
    "X_train.shape, X_test.shape, y_train.shape, y_test.shape"
   ]
  },
  {
   "cell_type": "code",
   "execution_count": 60,
   "id": "40eeac8a",
   "metadata": {},
   "outputs": [
    {
     "name": "stdout",
     "output_type": "stream",
     "text": [
      "rmse :  23.12436533548611\n"
     ]
    }
   ],
   "source": [
    "## 2. polynomialFeatures(degree=2)\n",
    "\n",
    "poly_train = PolynomialFeatures(degree=2).fit_transform(X_train)\n",
    "\n",
    "\n",
    "## 3. Linear Regression \n",
    "\n",
    "PLR = LinearRegression()\n",
    "PLR.fit(poly_train, y_train)\n",
    "\n",
    "## 4. Predict\n",
    "\n",
    "poly_test = PolynomialFeatures(degree=2).fit_transform(X_test)\n",
    "y_hat = PLR.predict(poly_test)\n",
    "\n",
    "## 5. RMSE\n",
    "\n",
    "rmse = np.sqrt(mean_squared_error(y_test, y_hat))\n",
    "\n",
    "print('rmse : ', rmse)"
   ]
  },
  {
   "cell_type": "code",
   "execution_count": 61,
   "id": "7ed89a15",
   "metadata": {},
   "outputs": [
    {
     "data": {
      "text/plain": [
       "((691023, 9), (296153, 9), (691023,), (296153,))"
      ]
     },
     "execution_count": 61,
     "metadata": {},
     "output_type": "execute_result"
    }
   ],
   "source": [
    "## 1. split\n",
    "\n",
    "X = df[['sex','age','bmi','ht','wt','waist','absi','smoking','alcohol']]\n",
    "y = df['fbs']\n",
    "\n",
    "X_train, X_test, y_train, y_test = train_test_split(X, y, test_size = 0.3, random_state = 2045)\n",
    "\n",
    "X_train.shape, X_test.shape, y_train.shape, y_test.shape"
   ]
  },
  {
   "cell_type": "code",
   "execution_count": 62,
   "id": "85252cd5",
   "metadata": {},
   "outputs": [
    {
     "name": "stdout",
     "output_type": "stream",
     "text": [
      "rmse :  16.44208464068787\n"
     ]
    }
   ],
   "source": [
    "## 2. polynomialFeatures(degree=2)\n",
    "\n",
    "poly_train = PolynomialFeatures(degree=2).fit_transform(X_train)\n",
    "\n",
    "\n",
    "## 3. Linear Regression \n",
    "\n",
    "PLR = LinearRegression()\n",
    "PLR.fit(poly_train, y_train)\n",
    "\n",
    "## 4. Predict\n",
    "\n",
    "poly_test = PolynomialFeatures(degree=2).fit_transform(X_test)\n",
    "y_hat = PLR.predict(poly_test)\n",
    "\n",
    "## 5. RMSE\n",
    "\n",
    "rmse = np.sqrt(mean_squared_error(y_test, y_hat))\n",
    "\n",
    "print('rmse : ', rmse)"
   ]
  },
  {
   "cell_type": "markdown",
   "id": "50bb55f3",
   "metadata": {},
   "source": [
    "## 2-2) ( Polynomial ) Linear Regression3차_이상치제거"
   ]
  },
  {
   "cell_type": "code",
   "execution_count": 63,
   "id": "ad00db93",
   "metadata": {},
   "outputs": [
    {
     "data": {
      "text/plain": [
       "((699343, 9), (299719, 9), (699343,), (299719,))"
      ]
     },
     "execution_count": 63,
     "metadata": {},
     "output_type": "execute_result"
    }
   ],
   "source": [
    "## 1. split\n",
    "\n",
    "X = df_o[['sex','age','bmi','ht','wt','waist','absi','smoking','alcohol']]\n",
    "y = df_o['fbs']\n",
    "\n",
    "X_train, X_test, y_train, y_test = train_test_split(X, y, test_size = 0.3, random_state = 2045)\n",
    "\n",
    "X_train.shape, X_test.shape, y_train.shape, y_test.shape"
   ]
  },
  {
   "cell_type": "code",
   "execution_count": 249,
   "id": "59572ac6",
   "metadata": {},
   "outputs": [
    {
     "name": "stdout",
     "output_type": "stream",
     "text": [
      "rmse :  9.206657849893517\n"
     ]
    }
   ],
   "source": [
    "## 2. polynomialFeatures(degree=3)\n",
    "\n",
    "poly_train = PolynomialFeatures(degree=3).fit_transform(X_train)\n",
    "\n",
    "\n",
    "## 3. Linear Regression \n",
    "\n",
    "PLR = LinearRegression()\n",
    "PLR.fit(poly_train, y_train)\n",
    "\n",
    "## 4. Predict\n",
    "\n",
    "poly_test = PolynomialFeatures(degree=3).fit_transform(X_test)\n",
    "y_hat = PLR.predict(poly_test)\n",
    "\n",
    "## 5. RMSE\n",
    "\n",
    "rmse = np.sqrt(mean_squared_error(y_test, y_hat))\n",
    "\n",
    "print('rmse : ', rmse)\n"
   ]
  },
  {
   "cell_type": "code",
   "execution_count": 64,
   "id": "e3c6d6fb",
   "metadata": {},
   "outputs": [
    {
     "data": {
      "text/plain": [
       "((691023, 9), (296153, 9), (691023,), (296153,))"
      ]
     },
     "execution_count": 64,
     "metadata": {},
     "output_type": "execute_result"
    }
   ],
   "source": [
    "## 1. split\n",
    "\n",
    "X = df[['sex','age','bmi','ht','wt','waist','absi','smoking','alcohol']]\n",
    "y = df['fbs']\n",
    "\n",
    "X_train, X_test, y_train, y_test = train_test_split(X, y, test_size = 0.3, random_state = 2045)\n",
    "\n",
    "X_train.shape, X_test.shape, y_train.shape, y_test.shape"
   ]
  },
  {
   "cell_type": "code",
   "execution_count": 65,
   "id": "6447549a",
   "metadata": {},
   "outputs": [
    {
     "name": "stdout",
     "output_type": "stream",
     "text": [
      "rmse :  16.414643732878176\n"
     ]
    }
   ],
   "source": [
    "## 2. polynomialFeatures(degree=3)\n",
    "\n",
    "poly_train = PolynomialFeatures(degree=3).fit_transform(X_train)\n",
    "\n",
    "\n",
    "## 3. Linear Regression \n",
    "\n",
    "PLR = LinearRegression()\n",
    "PLR.fit(poly_train, y_train)\n",
    "\n",
    "## 4. Predict\n",
    "\n",
    "poly_test = PolynomialFeatures(degree=3).fit_transform(X_test)\n",
    "y_hat = PLR.predict(poly_test)\n",
    "\n",
    "## 5. RMSE\n",
    "\n",
    "rmse = np.sqrt(mean_squared_error(y_test, y_hat))\n",
    "\n",
    "print('rmse : ', rmse)\n"
   ]
  },
  {
   "cell_type": "markdown",
   "id": "1af0cf2b",
   "metadata": {},
   "source": [
    "### 4차 다항회귀분석을 수행했을 때는 오히려 rmse가 15로 증가\n",
    "### - Overfitting으로 인해 오히려 성능저하로 판단. \n",
    "\n",
    "### 정규화와 표준화는 polynomial linear regression 에서는 차이가 없음(rmse값 소수 4째자리에서 차이발생)"
   ]
  },
  {
   "cell_type": "markdown",
   "id": "f1d19325",
   "metadata": {},
   "source": [
    "## 3-1) 규제선형모델 Ridge Regression_원본\n",
    "\n",
    "- 표준화, 정규화 등 scaling 처리한 데이터와 원본 데이터의 결과 성능이 차이가 없음"
   ]
  },
  {
   "cell_type": "code",
   "execution_count": 66,
   "id": "9850c497",
   "metadata": {},
   "outputs": [
    {
     "data": {
      "text/plain": [
       "((691023, 9), (296153, 9), (691023,), (296153,))"
      ]
     },
     "execution_count": 66,
     "metadata": {},
     "output_type": "execute_result"
    }
   ],
   "source": [
    "## 1. split\n",
    "\n",
    "X = df[['sex','age','ht','wt','bmi','absi','waist','smoking','alcohol']]\n",
    "y = df['fbs']\n",
    "\n",
    "X_train, X_test, y_train, y_test = train_test_split(X, y, test_size = 0.3, random_state = 2045)\n",
    "\n",
    "X_train.shape, X_test.shape, y_train.shape, y_test.shape"
   ]
  },
  {
   "cell_type": "code",
   "execution_count": 67,
   "id": "8abedde6",
   "metadata": {},
   "outputs": [
    {
     "name": "stdout",
     "output_type": "stream",
     "text": [
      "===== alpha =  0  =====\n",
      "rmse :  16.486398624550116\n",
      "===== alpha =  0.1  =====\n",
      "rmse :  16.486398663723058\n",
      "===== alpha =  1  =====\n",
      "rmse :  16.486399016437392\n",
      "===== alpha =  10  =====\n",
      "rmse :  16.486402556718286\n",
      "===== alpha =  100  =====\n",
      "rmse :  16.48643759504328\n"
     ]
    }
   ],
   "source": [
    "## 2. model define\n",
    "\n",
    "alphas = [0, 0.1, 1, 10, 100]\n",
    "\n",
    "for alpha in alphas :\n",
    "    \n",
    "    ridge = Ridge(alpha = alpha)\n",
    "    ridge.fit(X_train, y_train)\n",
    "    y_hat = ridge.predict(X_test)\n",
    "    rmse = np.sqrt(mean_squared_error(y_test, y_hat))\n",
    "    \n",
    "    print('===== alpha = ', alpha, ' =====')\n",
    "    print('rmse : ', rmse)"
   ]
  },
  {
   "cell_type": "markdown",
   "id": "25815b1a",
   "metadata": {},
   "source": [
    "## 3-2) Lasso Regression_원본\n",
    "\n",
    "- Ridge와 마찬가지로 x를 scaling한 데이터와 모델 성능에 차이가 없음"
   ]
  },
  {
   "cell_type": "code",
   "execution_count": 68,
   "id": "3c6086ec",
   "metadata": {},
   "outputs": [
    {
     "data": {
      "text/plain": [
       "((691023, 9), (296153, 9), (691023,), (296153,))"
      ]
     },
     "execution_count": 68,
     "metadata": {},
     "output_type": "execute_result"
    }
   ],
   "source": [
    "## 1. split\n",
    "\n",
    "X = df[['sex','age','ht','wt','bmi','absi','waist','smoking','alcohol']]\n",
    "y = df['fbs']\n",
    "\n",
    "X_train, X_test, y_train, y_test = train_test_split(X, y, test_size = 0.3, random_state = 2045)\n",
    "\n",
    "X_train.shape, X_test.shape, y_train.shape, y_test.shape"
   ]
  },
  {
   "cell_type": "code",
   "execution_count": 70,
   "id": "2c12660f",
   "metadata": {},
   "outputs": [
    {
     "name": "stdout",
     "output_type": "stream",
     "text": [
      "===== alpha =  0  =====\n",
      "rmse :  16.48640420687979\n",
      "===== alpha =  0.07  =====\n",
      "rmse :  16.489393555742044\n",
      "===== alpha =  1  =====\n",
      "rmse :  16.540436591883445\n",
      "===== alpha =  10  =====\n",
      "rmse :  16.924272260149856\n",
      "===== alpha =  100  =====\n",
      "rmse :  17.52064639005803\n"
     ]
    }
   ],
   "source": [
    "## 2. model define\n",
    "\n",
    "alphas = [0, 0.07, 1, 10, 100]\n",
    "\n",
    "for alpha in alphas :\n",
    "    \n",
    "    lasso = Lasso(alpha = alpha)\n",
    "    lasso.fit(X_train, y_train)\n",
    "    y_hat = lasso.predict(X_test)\n",
    "    rmse = np.sqrt(mean_squared_error(y_test, y_hat))\n",
    "    \n",
    "    print('===== alpha = ', alpha, ' =====')\n",
    "    print('rmse : ', rmse)"
   ]
  },
  {
   "cell_type": "markdown",
   "id": "7a3372fb",
   "metadata": {},
   "source": [
    "## 3-3) ElasticNet Regression _원본"
   ]
  },
  {
   "cell_type": "code",
   "execution_count": 71,
   "id": "dec59b9c",
   "metadata": {},
   "outputs": [
    {
     "data": {
      "text/plain": [
       "((691023, 9), (296153, 9), (691023,), (296153,))"
      ]
     },
     "execution_count": 71,
     "metadata": {},
     "output_type": "execute_result"
    }
   ],
   "source": [
    "## 1. split\n",
    "\n",
    "X = df[['sex','age','ht','wt','bmi','absi','waist','smoking','alcohol']]\n",
    "y = df['fbs']\n",
    "\n",
    "X_train, X_test, y_train, y_test = train_test_split(X, y, test_size = 0.3, random_state = 2045)\n",
    "\n",
    "X_train.shape, X_test.shape, y_train.shape, y_test.shape"
   ]
  },
  {
   "cell_type": "code",
   "execution_count": 73,
   "id": "e78acbf1",
   "metadata": {},
   "outputs": [
    {
     "name": "stdout",
     "output_type": "stream",
     "text": [
      "===== alpha =  0  =====\n",
      "rmse :  16.48640420687979\n",
      "===== alpha =  0.07  =====\n",
      "rmse :  16.489603087685015\n",
      "===== alpha =  0.1  =====\n",
      "rmse :  16.49144395554293\n",
      "===== alpha =  0.3  =====\n",
      "rmse :  16.508944699252194\n",
      "===== alpha =  0.5  =====\n",
      "rmse :  16.52317572027042\n",
      "===== alpha =  1  =====\n",
      "rmse :  16.54120156143516\n"
     ]
    }
   ],
   "source": [
    "## 2. model define\n",
    "\n",
    "alphas = [0,0.07, 0.1, 0.3, 0.5, 1]\n",
    "\n",
    "for alpha in alphas :\n",
    "    \n",
    "    elastic = ElasticNet(alpha = alpha, l1_ratio=0.7)\n",
    "    elastic.fit(X_train, y_train)\n",
    "    y_hat = elastic.predict(X_test)\n",
    "    rmse = np.sqrt(mean_squared_error(y_test, y_hat))\n",
    "    \n",
    "    print('===== alpha = ', alpha, ' =====')\n",
    "    print('rmse : ', rmse)"
   ]
  },
  {
   "cell_type": "markdown",
   "id": "2b884c09",
   "metadata": {},
   "source": [
    "## 모델성능 : 3차 Linear Regression > 2차 Linear Regression > LinearRegression = Ridge = Lasso = ElasticNet"
   ]
  },
  {
   "cell_type": "markdown",
   "id": "43325709",
   "metadata": {},
   "source": [
    "- Linear Regression 성능은 크게 개선되는 모델 없이 대략 rmse가 9.1~9.2을 보임. \n",
    "\n",
    "- 과적합 우려가 있어서 규제선형모델(ridge, lasso, elasticNet)을 정의해보았는데 오히려 규제를 할수록 성능이 아주조금씩 저하됨\n",
    "\n",
    "- linear regression에서는 과적합 문제는 이슈가 되지 않는다고 판단. "
   ]
  }
 ],
 "metadata": {
  "kernelspec": {
   "display_name": "Python 3",
   "language": "python",
   "name": "python3"
  },
  "language_info": {
   "codemirror_mode": {
    "name": "ipython",
    "version": 3
   },
   "file_extension": ".py",
   "mimetype": "text/x-python",
   "name": "python",
   "nbconvert_exporter": "python",
   "pygments_lexer": "ipython3",
   "version": "3.8.8"
  }
 },
 "nbformat": 4,
 "nbformat_minor": 5
}
