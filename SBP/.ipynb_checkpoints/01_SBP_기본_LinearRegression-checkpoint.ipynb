{
 "cells": [
  {
   "cell_type": "markdown",
   "id": "fa464914",
   "metadata": {},
   "source": [
    "# SBP(수축기혈압) \n",
    "\n",
    "### X변수(기본)\n",
    "- sex : 1(남자), 2(여자)\n",
    "- age : 20세 부터 5세 단위\n",
    "- ht : 5cm단위\n",
    "- wt : 5kg 단위\n",
    "- waist : 허리둘레 cm\n",
    "- bmi \n",
    "- absi : 체형지수 => 허리둘레 / (BMI * 2/3) * (ht * 1/2)\n",
    "- smoking : 1(피우지 않음), 2(피웠다끊음), 3(피우고있음)\n",
    "- alcohol : 0(마시지않음), 1(마심)"
   ]
  },
  {
   "cell_type": "code",
   "execution_count": 1,
   "id": "5fcbf42c",
   "metadata": {},
   "outputs": [],
   "source": [
    "import pandas as pd\n",
    "import numpy as np\n",
    "\n",
    "import warnings\n",
    "warnings.filterwarnings('ignore')\n",
    "\n",
    "import matplotlib.pyplot as plt\n",
    "import seaborn as sns\n",
    "\n",
    "# 시각화 한글 지원\n",
    "from matplotlib import font_manager, rc\n",
    "font_path = \"C:/Windows/Fonts/malgun.ttf\" \n",
    "font = font_manager.FontProperties(fname=font_path).get_name()\n",
    "rc('font', family=font)\n",
    "\n",
    "# 상관계수\n",
    "from scipy import stats\n",
    "\n",
    "# model\n",
    "from sklearn.model_selection import train_test_split, GridSearchCV, KFold, cross_val_score\n",
    "from sklearn.linear_model import LinearRegression, Ridge, Lasso, ElasticNet\n",
    "from sklearn.ensemble import RandomForestRegressor, GradientBoostingRegressor\n",
    "from xgboost import XGBRegressor\n",
    "from lightgbm import LGBMRegressor\n",
    "from sklearn.tree import DecisionTreeRegressor\n",
    "from sklearn.metrics import mean_squared_error\n",
    "from sklearn.preprocessing import PolynomialFeatures, MinMaxScaler, StandardScaler"
   ]
  },
  {
   "cell_type": "markdown",
   "id": "f5789c42",
   "metadata": {},
   "source": [
    "## 1. 데이터 불러오기"
   ]
  },
  {
   "cell_type": "code",
   "execution_count": 2,
   "id": "8d706f06",
   "metadata": {},
   "outputs": [
    {
     "data": {
      "text/plain": [
       "Index(['기준년도', '가입자일련번호', '성별코드', '연령대코드(5세단위)', '시도코드', '신장(5Cm단위)',\n",
       "       '체중(5Kg단위)', '허리둘레', '시력(좌)', '시력(우)', '청력(좌)', '청력(우)', '수축기혈압',\n",
       "       '이완기혈압', '식전혈당(공복혈당)', '총콜레스테롤', '트리글리세라이드', 'HDL콜레스테롤', 'LDL콜레스테롤',\n",
       "       '혈색소', '요단백', '혈청크레아티닌', '(혈청지오티)AST', '(혈청지오티)ALT', '감마지티피', '흡연상태',\n",
       "       '음주여부', '구강검진수검여부', '치아우식증유무', '결손치유무', '치아마모증유무', '제3대구치(사랑니)이상', '치석',\n",
       "       '데이터공개일자'],\n",
       "      dtype='object')"
      ]
     },
     "execution_count": 2,
     "metadata": {},
     "output_type": "execute_result"
    }
   ],
   "source": [
    "df = pd.read_csv('C:/Users/sja95/OneDrive/바탕 화면/dataset/건강검진2017.csv', encoding = 'euc-KR')\n",
    "\n",
    "df.columns"
   ]
  },
  {
   "cell_type": "code",
   "execution_count": 3,
   "id": "e1dc1d28",
   "metadata": {},
   "outputs": [],
   "source": [
    "df = df[['성별코드','연령대코드(5세단위)','신장(5Cm단위)','체중(5Kg단위)','허리둘레','흡연상태','음주여부','수축기혈압']]\n",
    "df.columns = ['sex','age','ht','wt','waist','smoking','alcohol','sbp']"
   ]
  },
  {
   "cell_type": "markdown",
   "id": "b4915f62",
   "metadata": {},
   "source": [
    "## 2. 데이터 전처리\n",
    "\n",
    "### 1) 결측값 제거"
   ]
  },
  {
   "cell_type": "code",
   "execution_count": 4,
   "id": "5b78856c",
   "metadata": {},
   "outputs": [
    {
     "name": "stdout",
     "output_type": "stream",
     "text": [
      "<class 'pandas.core.frame.DataFrame'>\n",
      "Int64Index: 999089 entries, 0 to 999999\n",
      "Data columns (total 8 columns):\n",
      " #   Column   Non-Null Count   Dtype  \n",
      "---  ------   --------------   -----  \n",
      " 0   sex      999089 non-null  int64  \n",
      " 1   age      999089 non-null  int64  \n",
      " 2   ht       999089 non-null  int64  \n",
      " 3   wt       999089 non-null  int64  \n",
      " 4   waist    999089 non-null  float64\n",
      " 5   smoking  999089 non-null  float64\n",
      " 6   alcohol  999089 non-null  object \n",
      " 7   sbp      999089 non-null  float64\n",
      "dtypes: float64(3), int64(4), object(1)\n",
      "memory usage: 68.6+ MB\n"
     ]
    }
   ],
   "source": [
    "df = df.dropna(axis = 0)\n",
    "df.info()"
   ]
  },
  {
   "cell_type": "markdown",
   "id": "b154ed33",
   "metadata": {},
   "source": [
    "### 2) bmi column 생성"
   ]
  },
  {
   "cell_type": "code",
   "execution_count": 5,
   "id": "7c1d6002",
   "metadata": {},
   "outputs": [],
   "source": [
    "df['bmi'] = df['wt'] / ((df['ht']/100)**2)"
   ]
  },
  {
   "cell_type": "markdown",
   "id": "6341c88d",
   "metadata": {},
   "source": [
    "### 3) absi columns 생성\n",
    "\n",
    "- 허리둘레 / (BMI * 2/3) * (ht * 1/2)"
   ]
  },
  {
   "cell_type": "code",
   "execution_count": 6,
   "id": "3b3b2eea",
   "metadata": {},
   "outputs": [
    {
     "data": {
      "text/html": [
       "<div>\n",
       "<style scoped>\n",
       "    .dataframe tbody tr th:only-of-type {\n",
       "        vertical-align: middle;\n",
       "    }\n",
       "\n",
       "    .dataframe tbody tr th {\n",
       "        vertical-align: top;\n",
       "    }\n",
       "\n",
       "    .dataframe thead th {\n",
       "        text-align: right;\n",
       "    }\n",
       "</style>\n",
       "<table border=\"1\" class=\"dataframe\">\n",
       "  <thead>\n",
       "    <tr style=\"text-align: right;\">\n",
       "      <th></th>\n",
       "      <th>sex</th>\n",
       "      <th>age</th>\n",
       "      <th>ht</th>\n",
       "      <th>wt</th>\n",
       "      <th>waist</th>\n",
       "      <th>smoking</th>\n",
       "      <th>alcohol</th>\n",
       "      <th>sbp</th>\n",
       "      <th>bmi</th>\n",
       "      <th>absi</th>\n",
       "    </tr>\n",
       "  </thead>\n",
       "  <tbody>\n",
       "    <tr>\n",
       "      <th>0</th>\n",
       "      <td>1</td>\n",
       "      <td>8</td>\n",
       "      <td>170</td>\n",
       "      <td>75</td>\n",
       "      <td>90.0</td>\n",
       "      <td>1.0</td>\n",
       "      <td>Y</td>\n",
       "      <td>120.0</td>\n",
       "      <td>25.95</td>\n",
       "      <td>1.74</td>\n",
       "    </tr>\n",
       "    <tr>\n",
       "      <th>1</th>\n",
       "      <td>1</td>\n",
       "      <td>7</td>\n",
       "      <td>180</td>\n",
       "      <td>80</td>\n",
       "      <td>89.0</td>\n",
       "      <td>3.0</td>\n",
       "      <td>N</td>\n",
       "      <td>130.0</td>\n",
       "      <td>24.69</td>\n",
       "      <td>1.92</td>\n",
       "    </tr>\n",
       "    <tr>\n",
       "      <th>2</th>\n",
       "      <td>1</td>\n",
       "      <td>9</td>\n",
       "      <td>165</td>\n",
       "      <td>75</td>\n",
       "      <td>91.0</td>\n",
       "      <td>1.0</td>\n",
       "      <td>N</td>\n",
       "      <td>120.0</td>\n",
       "      <td>27.55</td>\n",
       "      <td>1.61</td>\n",
       "    </tr>\n",
       "    <tr>\n",
       "      <th>3</th>\n",
       "      <td>1</td>\n",
       "      <td>11</td>\n",
       "      <td>175</td>\n",
       "      <td>80</td>\n",
       "      <td>91.0</td>\n",
       "      <td>1.0</td>\n",
       "      <td>N</td>\n",
       "      <td>145.0</td>\n",
       "      <td>26.12</td>\n",
       "      <td>1.80</td>\n",
       "    </tr>\n",
       "    <tr>\n",
       "      <th>4</th>\n",
       "      <td>1</td>\n",
       "      <td>11</td>\n",
       "      <td>165</td>\n",
       "      <td>60</td>\n",
       "      <td>80.0</td>\n",
       "      <td>1.0</td>\n",
       "      <td>N</td>\n",
       "      <td>138.0</td>\n",
       "      <td>22.04</td>\n",
       "      <td>1.77</td>\n",
       "    </tr>\n",
       "  </tbody>\n",
       "</table>\n",
       "</div>"
      ],
      "text/plain": [
       "   sex  age   ht  wt  waist  smoking alcohol    sbp    bmi  absi\n",
       "0    1    8  170  75   90.0      1.0       Y  120.0  25.95  1.74\n",
       "1    1    7  180  80   89.0      3.0       N  130.0  24.69  1.92\n",
       "2    1    9  165  75   91.0      1.0       N  120.0  27.55  1.61\n",
       "3    1   11  175  80   91.0      1.0       N  145.0  26.12  1.80\n",
       "4    1   11  165  60   80.0      1.0       N  138.0  22.04  1.77"
      ]
     },
     "execution_count": 6,
     "metadata": {},
     "output_type": "execute_result"
    }
   ],
   "source": [
    "df['absi'] = (df['waist']*0.393701) / (df['bmi']*2/3) * ((df['ht']/100)* 1/2)\n",
    "df = df.round(decimals = 2)\n",
    "\n",
    "df.head()"
   ]
  },
  {
   "cell_type": "markdown",
   "id": "77847dac",
   "metadata": {},
   "source": [
    "### 3) alcohol : str -> float형으로 변환"
   ]
  },
  {
   "cell_type": "code",
   "execution_count": 7,
   "id": "f68c8ea4",
   "metadata": {},
   "outputs": [],
   "source": [
    "df.loc[(df.alcohol=='Y'),'alcohol'] = 1.0\n",
    "df.loc[(df.alcohol=='N'), 'alcohol'] = 0.0\n",
    "\n",
    "df = df.astype(float)"
   ]
  },
  {
   "cell_type": "code",
   "execution_count": 38,
   "id": "a172095d",
   "metadata": {},
   "outputs": [
    {
     "name": "stdout",
     "output_type": "stream",
     "text": [
      "<class 'pandas.core.frame.DataFrame'>\n",
      "Int64Index: 998398 entries, 0 to 999999\n",
      "Data columns (total 10 columns):\n",
      " #   Column   Non-Null Count   Dtype  \n",
      "---  ------   --------------   -----  \n",
      " 0   sex      998398 non-null  float64\n",
      " 1   age      998398 non-null  float64\n",
      " 2   ht       998398 non-null  float64\n",
      " 3   wt       998398 non-null  float64\n",
      " 4   waist    998398 non-null  float64\n",
      " 5   smoking  998398 non-null  float64\n",
      " 6   alcohol  998398 non-null  float64\n",
      " 7   sbp      998398 non-null  float64\n",
      " 8   bmi      998398 non-null  float64\n",
      " 9   absi     998398 non-null  float64\n",
      "dtypes: float64(10)\n",
      "memory usage: 116.0 MB\n"
     ]
    }
   ],
   "source": [
    "df.info()"
   ]
  },
  {
   "cell_type": "markdown",
   "id": "6c6a0921",
   "metadata": {},
   "source": [
    "### 4) 이상값 제거\n",
    "\n",
    "- IQR = Q3 - Q1 \n",
    "- Q1 -3 * IQR => lower\n",
    "- Q3 + 3 * IQR => upper 로 설정\n",
    "- lower보다 작거나 upper보다 큰 값을 이상값으로 간주하고 제거\n",
    "\n",
    "- 변수마다 lower, upper 값을 확인하고 제거하는 과정을 거치면 다른 변수 lower/upper값에 영향을 줄 수 있음\n",
    "- 따라서, 변수 각각의 lower, upper 값을 미리 모두 확인 후 각 값에 맞춰 범위 외의 값을 제거해줌."
   ]
  },
  {
   "cell_type": "markdown",
   "id": "dd040b66",
   "metadata": {},
   "source": [
    "#### (1) lower / upper 값 구하기"
   ]
  },
  {
   "cell_type": "code",
   "execution_count": 9,
   "id": "26a7fb2e",
   "metadata": {},
   "outputs": [
    {
     "name": "stdout",
     "output_type": "stream",
     "text": [
      "======= ht =======\n",
      "lower : 110.0\n",
      "upper : 215.0 \n",
      "\n",
      "======= wt =======\n",
      "lower : 10.0\n",
      "upper : 115.0 \n",
      "\n",
      "======= bmi =======\n",
      "lower : 8.070000000000004\n",
      "upper : 39.36 \n",
      "\n",
      "======= waist =======\n",
      "lower : 32.999999999999986\n",
      "upper : 128.9 \n",
      "\n",
      "======= absi =======\n",
      "lower : 0.73\n",
      "upper : 2.55 \n",
      "\n"
     ]
    }
   ],
   "source": [
    "columns = ['ht','wt','bmi','waist', 'absi']\n",
    "\n",
    "for column in columns:\n",
    "    \n",
    "    print('=======', column, '=======')\n",
    "    \n",
    "    q25, q75 = np.quantile(df[column], 0.25), np.quantile(df[column], 0.75)\n",
    "    IQR = q75 - q25\n",
    "    \n",
    "    lower = q25 - IQR*3\n",
    "    upper = q75 + IQR*3\n",
    "    \n",
    "    print('lower :', lower)\n",
    "    print('upper :', upper, '\\n')\n",
    "    \n"
   ]
  },
  {
   "cell_type": "markdown",
   "id": "75d9fd01",
   "metadata": {},
   "source": [
    "#### (2) 이상값 제거"
   ]
  },
  {
   "cell_type": "code",
   "execution_count": 37,
   "id": "abefea29",
   "metadata": {},
   "outputs": [],
   "source": [
    "# ht\n",
    "df.drop(df.loc[(df['ht']>215.0)|(df['ht']<110.0)].index, inplace = True)\n",
    "\n",
    "# wt\n",
    "df.drop(df.loc[(df['wt']>115.0)|(df['wt']<10.0)].index, inplace = True)\n",
    "\n",
    "# bmi\n",
    "df.drop(df.loc[(df['bmi']>39.36)|(df['bmi']<8.07)].index, inplace = True)\n",
    "\n",
    "# waist\n",
    "df.drop(df.loc[(df['waist']>128.9)|(df['waist']<32.9)].index, inplace = True)\n",
    "\n",
    "# absi\n",
    "df.drop(df.loc[(df['absi']>2.55)|df['absi']<0.73].index, inplace = True)"
   ]
  },
  {
   "cell_type": "markdown",
   "id": "60367d82",
   "metadata": {},
   "source": [
    "## 2. Scaling\n",
    "\n",
    "- 표준화(Standardization)\n",
    "- 정규화(Normalization)"
   ]
  },
  {
   "cell_type": "markdown",
   "id": "089fc227",
   "metadata": {},
   "source": [
    "### 1) 표준화 : df_s"
   ]
  },
  {
   "cell_type": "code",
   "execution_count": 39,
   "id": "b324e873",
   "metadata": {},
   "outputs": [
    {
     "name": "stdout",
     "output_type": "stream",
     "text": [
      "<class 'pandas.core.frame.DataFrame'>\n",
      "Int64Index: 998398 entries, 0 to 999999\n",
      "Data columns (total 10 columns):\n",
      " #   Column   Non-Null Count   Dtype  \n",
      "---  ------   --------------   -----  \n",
      " 0   sex      998398 non-null  float64\n",
      " 1   age      998398 non-null  float64\n",
      " 2   smoking  998398 non-null  float64\n",
      " 3   alcohol  998398 non-null  float64\n",
      " 4   sbp      998398 non-null  float64\n",
      " 5   ht       998398 non-null  float64\n",
      " 6   wt       998398 non-null  float64\n",
      " 7   bmi      998398 non-null  float64\n",
      " 8   waist    998398 non-null  float64\n",
      " 9   absi     998398 non-null  float64\n",
      "dtypes: float64(10)\n",
      "memory usage: 116.0 MB\n",
      "None\n"
     ]
    },
    {
     "data": {
      "text/html": [
       "<div>\n",
       "<style scoped>\n",
       "    .dataframe tbody tr th:only-of-type {\n",
       "        vertical-align: middle;\n",
       "    }\n",
       "\n",
       "    .dataframe tbody tr th {\n",
       "        vertical-align: top;\n",
       "    }\n",
       "\n",
       "    .dataframe thead th {\n",
       "        text-align: right;\n",
       "    }\n",
       "</style>\n",
       "<table border=\"1\" class=\"dataframe\">\n",
       "  <thead>\n",
       "    <tr style=\"text-align: right;\">\n",
       "      <th></th>\n",
       "      <th>sex</th>\n",
       "      <th>age</th>\n",
       "      <th>smoking</th>\n",
       "      <th>alcohol</th>\n",
       "      <th>sbp</th>\n",
       "      <th>ht</th>\n",
       "      <th>wt</th>\n",
       "      <th>bmi</th>\n",
       "      <th>waist</th>\n",
       "      <th>absi</th>\n",
       "    </tr>\n",
       "  </thead>\n",
       "  <tbody>\n",
       "    <tr>\n",
       "      <th>0</th>\n",
       "      <td>1.0</td>\n",
       "      <td>8.0</td>\n",
       "      <td>1.0</td>\n",
       "      <td>1.0</td>\n",
       "      <td>120.0</td>\n",
       "      <td>0.837664</td>\n",
       "      <td>0.944337</td>\n",
       "      <td>0.584946</td>\n",
       "      <td>0.924724</td>\n",
       "      <td>0.527026</td>\n",
       "    </tr>\n",
       "    <tr>\n",
       "      <th>1</th>\n",
       "      <td>1.0</td>\n",
       "      <td>7.0</td>\n",
       "      <td>3.0</td>\n",
       "      <td>0.0</td>\n",
       "      <td>130.0</td>\n",
       "      <td>1.915011</td>\n",
       "      <td>1.345801</td>\n",
       "      <td>0.224584</td>\n",
       "      <td>0.820132</td>\n",
       "      <td>1.477618</td>\n",
       "    </tr>\n",
       "    <tr>\n",
       "      <th>2</th>\n",
       "      <td>1.0</td>\n",
       "      <td>9.0</td>\n",
       "      <td>1.0</td>\n",
       "      <td>0.0</td>\n",
       "      <td>120.0</td>\n",
       "      <td>0.298990</td>\n",
       "      <td>0.944337</td>\n",
       "      <td>1.042549</td>\n",
       "      <td>1.029315</td>\n",
       "      <td>-0.159513</td>\n",
       "    </tr>\n",
       "    <tr>\n",
       "      <th>3</th>\n",
       "      <td>1.0</td>\n",
       "      <td>11.0</td>\n",
       "      <td>1.0</td>\n",
       "      <td>0.0</td>\n",
       "      <td>145.0</td>\n",
       "      <td>1.376337</td>\n",
       "      <td>1.345801</td>\n",
       "      <td>0.633566</td>\n",
       "      <td>1.029315</td>\n",
       "      <td>0.843890</td>\n",
       "    </tr>\n",
       "    <tr>\n",
       "      <th>4</th>\n",
       "      <td>1.0</td>\n",
       "      <td>11.0</td>\n",
       "      <td>1.0</td>\n",
       "      <td>0.0</td>\n",
       "      <td>138.0</td>\n",
       "      <td>0.298990</td>\n",
       "      <td>-0.260055</td>\n",
       "      <td>-0.533321</td>\n",
       "      <td>-0.121195</td>\n",
       "      <td>0.685458</td>\n",
       "    </tr>\n",
       "  </tbody>\n",
       "</table>\n",
       "</div>"
      ],
      "text/plain": [
       "   sex   age  smoking  alcohol    sbp        ht        wt       bmi     waist  \\\n",
       "0  1.0   8.0      1.0      1.0  120.0  0.837664  0.944337  0.584946  0.924724   \n",
       "1  1.0   7.0      3.0      0.0  130.0  1.915011  1.345801  0.224584  0.820132   \n",
       "2  1.0   9.0      1.0      0.0  120.0  0.298990  0.944337  1.042549  1.029315   \n",
       "3  1.0  11.0      1.0      0.0  145.0  1.376337  1.345801  0.633566  1.029315   \n",
       "4  1.0  11.0      1.0      0.0  138.0  0.298990 -0.260055 -0.533321 -0.121195   \n",
       "\n",
       "       absi  \n",
       "0  0.527026  \n",
       "1  1.477618  \n",
       "2 -0.159513  \n",
       "3  0.843890  \n",
       "4  0.685458  "
      ]
     },
     "execution_count": 39,
     "metadata": {},
     "output_type": "execute_result"
    }
   ],
   "source": [
    "scaler2 = StandardScaler()\n",
    "\n",
    "x_ht = scaler2.fit_transform(df[['ht']])\n",
    "x_wt = scaler2.fit_transform(df[['wt']])\n",
    "x_bmi = scaler2.fit_transform(df[['bmi']])\n",
    "x_waist = scaler2.fit_transform(df[['waist']])\n",
    "x_absi = scaler2.fit_transform(df[['absi']])\n",
    "\n",
    "df_s = df[['sex','age','smoking','alcohol','sbp']]\n",
    "df_s['ht'] = x_ht\n",
    "df_s['wt'] = x_wt\n",
    "df_s['bmi'] = x_bmi\n",
    "df_s['waist'] = x_waist\n",
    "df_s['absi'] = x_absi\n",
    "\n",
    "print(df_s.info())\n",
    "df_s.head()"
   ]
  },
  {
   "cell_type": "markdown",
   "id": "0cfbde42",
   "metadata": {},
   "source": [
    "### 2) 정규화 : df_n"
   ]
  },
  {
   "cell_type": "code",
   "execution_count": 41,
   "id": "913371e4",
   "metadata": {},
   "outputs": [
    {
     "name": "stdout",
     "output_type": "stream",
     "text": [
      "<class 'pandas.core.frame.DataFrame'>\n",
      "Int64Index: 998398 entries, 0 to 999999\n",
      "Data columns (total 10 columns):\n",
      " #   Column   Non-Null Count   Dtype  \n",
      "---  ------   --------------   -----  \n",
      " 0   sex      998398 non-null  float64\n",
      " 1   age      998398 non-null  float64\n",
      " 2   smoking  998398 non-null  float64\n",
      " 3   alcohol  998398 non-null  float64\n",
      " 4   sbp      998398 non-null  float64\n",
      " 5   ht       998398 non-null  float64\n",
      " 6   wt       998398 non-null  float64\n",
      " 7   bmi      998398 non-null  float64\n",
      " 8   waist    998398 non-null  float64\n",
      " 9   absi     998398 non-null  float64\n",
      "dtypes: float64(10)\n",
      "memory usage: 116.0 MB\n",
      "None\n"
     ]
    },
    {
     "data": {
      "text/html": [
       "<div>\n",
       "<style scoped>\n",
       "    .dataframe tbody tr th:only-of-type {\n",
       "        vertical-align: middle;\n",
       "    }\n",
       "\n",
       "    .dataframe tbody tr th {\n",
       "        vertical-align: top;\n",
       "    }\n",
       "\n",
       "    .dataframe thead th {\n",
       "        text-align: right;\n",
       "    }\n",
       "</style>\n",
       "<table border=\"1\" class=\"dataframe\">\n",
       "  <thead>\n",
       "    <tr style=\"text-align: right;\">\n",
       "      <th></th>\n",
       "      <th>sex</th>\n",
       "      <th>age</th>\n",
       "      <th>smoking</th>\n",
       "      <th>alcohol</th>\n",
       "      <th>sbp</th>\n",
       "      <th>ht</th>\n",
       "      <th>wt</th>\n",
       "      <th>bmi</th>\n",
       "      <th>waist</th>\n",
       "      <th>absi</th>\n",
       "    </tr>\n",
       "  </thead>\n",
       "  <tbody>\n",
       "    <tr>\n",
       "      <th>0</th>\n",
       "      <td>1.0</td>\n",
       "      <td>8.0</td>\n",
       "      <td>1.0</td>\n",
       "      <td>1.0</td>\n",
       "      <td>120.0</td>\n",
       "      <td>0.666667</td>\n",
       "      <td>0.555556</td>\n",
       "      <td>0.506586</td>\n",
       "      <td>0.591398</td>\n",
       "      <td>0.411972</td>\n",
       "    </tr>\n",
       "    <tr>\n",
       "      <th>1</th>\n",
       "      <td>1.0</td>\n",
       "      <td>7.0</td>\n",
       "      <td>3.0</td>\n",
       "      <td>0.0</td>\n",
       "      <td>130.0</td>\n",
       "      <td>0.833333</td>\n",
       "      <td>0.611111</td>\n",
       "      <td>0.459164</td>\n",
       "      <td>0.580645</td>\n",
       "      <td>0.475352</td>\n",
       "    </tr>\n",
       "    <tr>\n",
       "      <th>2</th>\n",
       "      <td>1.0</td>\n",
       "      <td>9.0</td>\n",
       "      <td>1.0</td>\n",
       "      <td>0.0</td>\n",
       "      <td>120.0</td>\n",
       "      <td>0.583333</td>\n",
       "      <td>0.555556</td>\n",
       "      <td>0.566805</td>\n",
       "      <td>0.602151</td>\n",
       "      <td>0.366197</td>\n",
       "    </tr>\n",
       "    <tr>\n",
       "      <th>3</th>\n",
       "      <td>1.0</td>\n",
       "      <td>11.0</td>\n",
       "      <td>1.0</td>\n",
       "      <td>0.0</td>\n",
       "      <td>145.0</td>\n",
       "      <td>0.750000</td>\n",
       "      <td>0.611111</td>\n",
       "      <td>0.512985</td>\n",
       "      <td>0.602151</td>\n",
       "      <td>0.433099</td>\n",
       "    </tr>\n",
       "    <tr>\n",
       "      <th>4</th>\n",
       "      <td>1.0</td>\n",
       "      <td>11.0</td>\n",
       "      <td>1.0</td>\n",
       "      <td>0.0</td>\n",
       "      <td>138.0</td>\n",
       "      <td>0.583333</td>\n",
       "      <td>0.388889</td>\n",
       "      <td>0.359428</td>\n",
       "      <td>0.483871</td>\n",
       "      <td>0.422535</td>\n",
       "    </tr>\n",
       "  </tbody>\n",
       "</table>\n",
       "</div>"
      ],
      "text/plain": [
       "   sex   age  smoking  alcohol    sbp        ht        wt       bmi     waist  \\\n",
       "0  1.0   8.0      1.0      1.0  120.0  0.666667  0.555556  0.506586  0.591398   \n",
       "1  1.0   7.0      3.0      0.0  130.0  0.833333  0.611111  0.459164  0.580645   \n",
       "2  1.0   9.0      1.0      0.0  120.0  0.583333  0.555556  0.566805  0.602151   \n",
       "3  1.0  11.0      1.0      0.0  145.0  0.750000  0.611111  0.512985  0.602151   \n",
       "4  1.0  11.0      1.0      0.0  138.0  0.583333  0.388889  0.359428  0.483871   \n",
       "\n",
       "       absi  \n",
       "0  0.411972  \n",
       "1  0.475352  \n",
       "2  0.366197  \n",
       "3  0.433099  \n",
       "4  0.422535  "
      ]
     },
     "execution_count": 41,
     "metadata": {},
     "output_type": "execute_result"
    }
   ],
   "source": [
    "scaler1 = MinMaxScaler()\n",
    "x_ht = scaler1.fit_transform(df[['ht']])\n",
    "x_wt = scaler1.fit_transform(df[['wt']])\n",
    "x_bmi = scaler1.fit_transform(df[['bmi']])\n",
    "x_waist = scaler1.fit_transform(df[['waist']])\n",
    "x_absi = scaler1.fit_transform(df[['absi']])\n",
    "\n",
    "df_n = df[['sex','age','smoking','alcohol', 'sbp']]\n",
    "df_n['ht'] = x_ht\n",
    "df_n['wt'] = x_wt\n",
    "df_n['bmi'] = x_bmi\n",
    "df_n['waist'] = x_waist\n",
    "df_n['absi'] = x_absi\n",
    "\n",
    "print(df_n.info())\n",
    "df_n.head()\n"
   ]
  },
  {
   "cell_type": "markdown",
   "id": "f1629743",
   "metadata": {},
   "source": [
    "# 3. Modeling "
   ]
  },
  {
   "cell_type": "markdown",
   "id": "fcb3535e",
   "metadata": {},
   "source": [
    "## 1-1) Linear Regression_표준화"
   ]
  },
  {
   "cell_type": "code",
   "execution_count": 42,
   "id": "dd70012d",
   "metadata": {},
   "outputs": [
    {
     "data": {
      "text/plain": [
       "((698878, 9), (299520, 9), (698878,), (299520,))"
      ]
     },
     "execution_count": 42,
     "metadata": {},
     "output_type": "execute_result"
    }
   ],
   "source": [
    "## 1. split\n",
    "\n",
    "X = df_s[['sex','age','bmi','ht','wt','waist','absi','smoking','alcohol']]\n",
    "y = df_s['sbp']\n",
    "\n",
    "X_train, X_test, y_train, y_test = train_test_split(X, y, test_size = 0.3, random_state = 2045)\n",
    "\n",
    "X_train.shape, X_test.shape, y_train.shape, y_test.shape"
   ]
  },
  {
   "cell_type": "code",
   "execution_count": 43,
   "id": "6ddb42ac",
   "metadata": {},
   "outputs": [
    {
     "name": "stdout",
     "output_type": "stream",
     "text": [
      "rmse :  13.152697650797093\n"
     ]
    }
   ],
   "source": [
    "## 2. fit \n",
    "\n",
    "RA = LinearRegression()\n",
    "RA.fit(X_train, y_train)\n",
    "\n",
    "## 3. Predict\n",
    "\n",
    "y_hat = RA.predict(X_test)\n",
    "\n",
    "## 4. Root MSE \n",
    "\n",
    "rmse = np.sqrt(mean_squared_error(y_test, y_hat))\n",
    "\n",
    "print('rmse : ', rmse)"
   ]
  },
  {
   "cell_type": "markdown",
   "id": "f38e0ce4",
   "metadata": {},
   "source": [
    "## 1-2) Linear Regression_정규화"
   ]
  },
  {
   "cell_type": "code",
   "execution_count": 44,
   "id": "dc294a01",
   "metadata": {},
   "outputs": [
    {
     "data": {
      "text/plain": [
       "((698878, 9), (299520, 9), (698878,), (299520,))"
      ]
     },
     "execution_count": 44,
     "metadata": {},
     "output_type": "execute_result"
    }
   ],
   "source": [
    "## 1. split\n",
    "\n",
    "X = df_n[['sex','age','ht','wt','bmi','absi','waist','smoking','alcohol']]\n",
    "y = df_n['sbp']\n",
    "\n",
    "X_train, X_test, y_train, y_test = train_test_split(X, y, test_size = 0.3, random_state = 2045)\n",
    "\n",
    "X_train.shape, X_test.shape, y_train.shape, y_test.shape"
   ]
  },
  {
   "cell_type": "code",
   "execution_count": 45,
   "id": "ef122dcf",
   "metadata": {},
   "outputs": [
    {
     "name": "stdout",
     "output_type": "stream",
     "text": [
      "rmse :  13.152697650797093\n"
     ]
    }
   ],
   "source": [
    "## 2. fit \n",
    "\n",
    "RA = LinearRegression()\n",
    "RA.fit(X_train, y_train)\n",
    "\n",
    "## 3. Predict\n",
    "\n",
    "y_hat = RA.predict(X_test)\n",
    "\n",
    "## 4. Root MSE \n",
    "\n",
    "rmse = np.sqrt(mean_squared_error(y_test, y_hat))\n",
    "\n",
    "print('rmse : ', rmse)"
   ]
  },
  {
   "cell_type": "markdown",
   "id": "90dc0670",
   "metadata": {},
   "source": [
    "## 1-3) Linear Regression_이상치제거"
   ]
  },
  {
   "cell_type": "code",
   "execution_count": 48,
   "id": "52165937",
   "metadata": {},
   "outputs": [
    {
     "data": {
      "text/plain": [
       "((698878, 9), (299520, 9), (698878,), (299520,))"
      ]
     },
     "execution_count": 48,
     "metadata": {},
     "output_type": "execute_result"
    }
   ],
   "source": [
    "## 1. split\n",
    "\n",
    "X = df[['sex','age','ht','wt','bmi','absi','waist','smoking','alcohol']]\n",
    "y = df['sbp']\n",
    "\n",
    "X_train, X_test, y_train, y_test = train_test_split(X, y, test_size = 0.3, random_state = 2045)\n",
    "\n",
    "X_train.shape, X_test.shape, y_train.shape, y_test.shape"
   ]
  },
  {
   "cell_type": "code",
   "execution_count": 49,
   "id": "d761d6c2",
   "metadata": {},
   "outputs": [
    {
     "name": "stdout",
     "output_type": "stream",
     "text": [
      "rmse :  13.152697650797093\n"
     ]
    }
   ],
   "source": [
    "## 2. fit \n",
    "\n",
    "RA = LinearRegression()\n",
    "RA.fit(X_train, y_train)\n",
    "\n",
    "## 3. Predict\n",
    "\n",
    "y_hat = RA.predict(X_test)\n",
    "\n",
    "## 4. Root MSE \n",
    "\n",
    "rmse = np.sqrt(mean_squared_error(y_test, y_hat))\n",
    "\n",
    "print('rmse : ', rmse)"
   ]
  },
  {
   "cell_type": "code",
   "execution_count": 50,
   "id": "1cdcc1d9",
   "metadata": {},
   "outputs": [
    {
     "data": {
      "text/plain": [
       "<AxesSubplot:>"
      ]
     },
     "execution_count": 50,
     "metadata": {},
     "output_type": "execute_result"
    },
    {
     "data": {
      "image/png": "[encoded data removed]",
      "text/plain": [
       "<Figure size 432x288 with 1 Axes>"
      ]
     },
     "metadata": {
      "needs_background": "light"
     },
     "output_type": "display_data"
    }
   ],
   "source": [
    "coef = pd.Series(RA.coef_, index = X_train.columns)\n",
    "sns.barplot(x = coef.values, y = coef.index)"
   ]
  },
  {
   "cell_type": "markdown",
   "id": "f2389683",
   "metadata": {},
   "source": [
    "## 2-1) ( Polynomial ) Linear Regression2차_이상치제거"
   ]
  },
  {
   "cell_type": "code",
   "execution_count": 51,
   "id": "7ed89a15",
   "metadata": {},
   "outputs": [
    {
     "data": {
      "text/plain": [
       "((698878, 9), (299520, 9), (698878,), (299520,))"
      ]
     },
     "execution_count": 51,
     "metadata": {},
     "output_type": "execute_result"
    }
   ],
   "source": [
    "## 1. split\n",
    "\n",
    "X = df[['sex','age','bmi','ht','wt','waist','absi','smoking','alcohol']]\n",
    "y = df['sbp']\n",
    "\n",
    "X_train, X_test, y_train, y_test = train_test_split(X, y, test_size = 0.3, random_state = 2045)\n",
    "\n",
    "X_train.shape, X_test.shape, y_train.shape, y_test.shape"
   ]
  },
  {
   "cell_type": "code",
   "execution_count": 52,
   "id": "85252cd5",
   "metadata": {},
   "outputs": [
    {
     "name": "stdout",
     "output_type": "stream",
     "text": [
      "rmse :  13.07005550756886\n"
     ]
    }
   ],
   "source": [
    "## 2. polynomialFeatures(degree=2)\n",
    "\n",
    "poly_train = PolynomialFeatures(degree=2).fit_transform(X_train)\n",
    "\n",
    "\n",
    "## 3. Linear Regression \n",
    "\n",
    "PLR = LinearRegression()\n",
    "PLR.fit(poly_train, y_train)\n",
    "\n",
    "## 4. Predict\n",
    "\n",
    "poly_test = PolynomialFeatures(degree=2).fit_transform(X_test)\n",
    "y_hat = PLR.predict(poly_test)\n",
    "\n",
    "## 5. RMSE\n",
    "\n",
    "rmse = np.sqrt(mean_squared_error(y_test, y_hat))\n",
    "\n",
    "print('rmse : ', rmse)"
   ]
  },
  {
   "cell_type": "markdown",
   "id": "50bb55f3",
   "metadata": {},
   "source": [
    "## 2-2) ( Polynomial ) Linear Regression3차_이상치제거"
   ]
  },
  {
   "cell_type": "code",
   "execution_count": 53,
   "id": "6447549a",
   "metadata": {},
   "outputs": [
    {
     "name": "stdout",
     "output_type": "stream",
     "text": [
      "rmse :  13.053826946353716\n"
     ]
    }
   ],
   "source": [
    "## 2. polynomialFeatures(degree=3)\n",
    "\n",
    "poly_train = PolynomialFeatures(degree=3).fit_transform(X_train)\n",
    "\n",
    "\n",
    "## 3. Linear Regression \n",
    "\n",
    "PLR = LinearRegression()\n",
    "PLR.fit(poly_train, y_train)\n",
    "\n",
    "## 4. Predict\n",
    "\n",
    "poly_test = PolynomialFeatures(degree=3).fit_transform(X_test)\n",
    "y_hat = PLR.predict(poly_test)\n",
    "\n",
    "## 5. RMSE\n",
    "\n",
    "rmse = np.sqrt(mean_squared_error(y_test, y_hat))\n",
    "\n",
    "print('rmse : ', rmse)"
   ]
  },
  {
   "cell_type": "markdown",
   "id": "1af0cf2b",
   "metadata": {},
   "source": [
    "### 4차 다항회귀분석을 수행했을 때는 오히려 rmse가 15로 증가\n",
    "### - Overfitting으로 인해 오히려 성능저하로 판단. \n",
    "\n",
    "### 정규화와 표준화는 polynomial linear regression 에서는 차이가 없음(rmse값 소수 4째자리에서 차이발생)"
   ]
  },
  {
   "cell_type": "markdown",
   "id": "f1d19325",
   "metadata": {},
   "source": [
    "## 3-1) 규제선형모델 Ridge Regression_원본\n",
    "\n",
    "- 표준화, 정규화 등 scaling 처리한 데이터와 원본 데이터의 결과 성능이 차이가 없음"
   ]
  },
  {
   "cell_type": "code",
   "execution_count": 54,
   "id": "9850c497",
   "metadata": {},
   "outputs": [
    {
     "data": {
      "text/plain": [
       "((698878, 9), (299520, 9), (698878,), (299520,))"
      ]
     },
     "execution_count": 54,
     "metadata": {},
     "output_type": "execute_result"
    }
   ],
   "source": [
    "## 1. split\n",
    "\n",
    "X = df[['sex','age','ht','wt','bmi','absi','waist','smoking','alcohol']]\n",
    "y = df['sbp']\n",
    "\n",
    "X_train, X_test, y_train, y_test = train_test_split(X, y, test_size = 0.3, random_state = 2045)\n",
    "\n",
    "X_train.shape, X_test.shape, y_train.shape, y_test.shape"
   ]
  },
  {
   "cell_type": "code",
   "execution_count": 55,
   "id": "8abedde6",
   "metadata": {},
   "outputs": [
    {
     "name": "stdout",
     "output_type": "stream",
     "text": [
      "===== alpha =  0  =====\n",
      "rmse :  13.152697650797093\n",
      "===== alpha =  0.1  =====\n",
      "rmse :  13.152697360614589\n",
      "===== alpha =  1  =====\n",
      "rmse :  13.152694768472823\n",
      "===== alpha =  10  =====\n",
      "rmse :  13.152670706591785\n",
      "===== alpha =  100  =====\n",
      "rmse :  13.15256241796828\n"
     ]
    }
   ],
   "source": [
    "## 2. model define\n",
    "\n",
    "alphas = [0, 0.1, 1, 10, 100]\n",
    "\n",
    "for alpha in alphas :\n",
    "    \n",
    "    ridge = Ridge(alpha = alpha)\n",
    "    ridge.fit(X_train, y_train)\n",
    "    y_hat = ridge.predict(X_test)\n",
    "    rmse = np.sqrt(mean_squared_error(y_test, y_hat))\n",
    "    \n",
    "    print('===== alpha = ', alpha, ' =====')\n",
    "    print('rmse : ', rmse)"
   ]
  },
  {
   "cell_type": "markdown",
   "id": "25815b1a",
   "metadata": {},
   "source": [
    "## 3-2) Lasso Regression_원본\n",
    "\n",
    "- Ridge와 마찬가지로 x를 scaling한 데이터와 모델 성능에 차이가 없음"
   ]
  },
  {
   "cell_type": "code",
   "execution_count": 56,
   "id": "3c6086ec",
   "metadata": {},
   "outputs": [
    {
     "data": {
      "text/plain": [
       "((699362, 9), (299727, 9), (699362,), (299727,))"
      ]
     },
     "execution_count": 56,
     "metadata": {},
     "output_type": "execute_result"
    }
   ],
   "source": [
    "## 1. split\n",
    "\n",
    "X = df_tmp[['sex','age','ht','wt','bmi','absi','waist','smoking','alcohol']]\n",
    "y = df_tmp['sbp']\n",
    "\n",
    "X_train, X_test, y_train, y_test = train_test_split(X, y, test_size = 0.3, random_state = 2045)\n",
    "\n",
    "X_train.shape, X_test.shape, y_train.shape, y_test.shape"
   ]
  },
  {
   "cell_type": "code",
   "execution_count": 57,
   "id": "2c12660f",
   "metadata": {},
   "outputs": [
    {
     "name": "stdout",
     "output_type": "stream",
     "text": [
      "===== alpha =  0  =====\n",
      "rmse :  13.238261411933445\n",
      "===== alpha =  0.1  =====\n",
      "rmse :  13.245129584890249\n",
      "===== alpha =  1  =====\n",
      "rmse :  13.3131216563472\n",
      "===== alpha =  10  =====\n",
      "rmse :  13.89696031741866\n",
      "===== alpha =  100  =====\n",
      "rmse :  14.595199598154652\n"
     ]
    }
   ],
   "source": [
    "## 2. model define\n",
    "\n",
    "alphas = [0, 0.1, 1, 10, 100]\n",
    "\n",
    "for alpha in alphas :\n",
    "    \n",
    "    lasso = Lasso(alpha = alpha)\n",
    "    lasso.fit(X_train, y_train)\n",
    "    y_hat = lasso.predict(X_test)\n",
    "    rmse = np.sqrt(mean_squared_error(y_test, y_hat))\n",
    "    \n",
    "    print('===== alpha = ', alpha, ' =====')\n",
    "    print('rmse : ', rmse)"
   ]
  },
  {
   "cell_type": "markdown",
   "id": "7a3372fb",
   "metadata": {},
   "source": [
    "## 3-3) ElasticNet Regression _원본"
   ]
  },
  {
   "cell_type": "code",
   "execution_count": 59,
   "id": "dec59b9c",
   "metadata": {},
   "outputs": [
    {
     "data": {
      "text/plain": [
       "((698878, 9), (299520, 9), (698878,), (299520,))"
      ]
     },
     "execution_count": 59,
     "metadata": {},
     "output_type": "execute_result"
    }
   ],
   "source": [
    "## 1. split\n",
    "\n",
    "X = df[['sex','age','ht','wt','bmi','absi','waist','smoking','alcohol']]\n",
    "y = df['sbp']\n",
    "\n",
    "X_train, X_test, y_train, y_test = train_test_split(X, y, test_size = 0.3, random_state = 2045)\n",
    "\n",
    "X_train.shape, X_test.shape, y_train.shape, y_test.shape"
   ]
  },
  {
   "cell_type": "code",
   "execution_count": 60,
   "id": "e78acbf1",
   "metadata": {},
   "outputs": [
    {
     "name": "stdout",
     "output_type": "stream",
     "text": [
      "===== alpha =  0.07  =====\n",
      "rmse :  13.158632398574328\n",
      "===== alpha =  0.1  =====\n",
      "rmse :  13.161721464837267\n",
      "===== alpha =  0.3  =====\n",
      "rmse :  13.188623958812954\n",
      "===== alpha =  0.5  =====\n",
      "rmse :  13.215548045686209\n",
      "===== alpha =  1  =====\n",
      "rmse :  13.221686851068869\n"
     ]
    }
   ],
   "source": [
    "## 2. model define\n",
    "\n",
    "alphas = [0.07, 0.1, 0.3, 0.5, 1]\n",
    "\n",
    "for alpha in alphas :\n",
    "    \n",
    "    elastic = ElasticNet(alpha = alpha, l1_ratio=0.7)\n",
    "    elastic.fit(X_train, y_train)\n",
    "    y_hat = elastic.predict(X_test)\n",
    "    rmse = np.sqrt(mean_squared_error(y_test, y_hat))\n",
    "    \n",
    "    print('===== alpha = ', alpha, ' =====')\n",
    "    print('rmse : ', rmse)"
   ]
  },
  {
   "cell_type": "markdown",
   "id": "2b884c09",
   "metadata": {},
   "source": [
    "## 모델성능 : 3차 Linear Regression > 2차 Linear Regression > LinearRegression = Ridge = Lasso = ElasticNet"
   ]
  },
  {
   "cell_type": "markdown",
   "id": "43325709",
   "metadata": {},
   "source": [
    "- Linear Regression 성능은 크게 개선되는 모델 없이 대략 rmse가 13~13.1을 보임. \n",
    "\n",
    "- 과적합 우려가 있어서 규제선형모델(ridge, lasso, elasticNet)을 정의해보았는데 오히려 규제를 할수록 성능이 아주조금씩 저하됨\n",
    "\n",
    "- linear regression에서는 과적합 문제는 이슈가 되지 않는다고 판단. "
   ]
  }
 ],
 "metadata": {
  "kernelspec": {
   "display_name": "Python 3",
   "language": "python",
   "name": "python3"
  },
  "language_info": {
   "codemirror_mode": {
    "name": "ipython",
    "version": 3
   },
   "file_extension": ".py",
   "mimetype": "text/x-python",
   "name": "python",
   "nbconvert_exporter": "python",
   "pygments_lexer": "ipython3",
   "version": "3.8.8"
  }
 },
 "nbformat": 4,
 "nbformat_minor": 5
}
