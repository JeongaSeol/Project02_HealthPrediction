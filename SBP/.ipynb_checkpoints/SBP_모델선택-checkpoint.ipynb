{
 "cells": [
  {
   "cell_type": "code",
   "execution_count": 13,
   "id": "266fa66b",
   "metadata": {},
   "outputs": [],
   "source": [
    "import pandas as pd\n",
    "import numpy as np\n",
    "\n",
    "import warnings\n",
    "warnings.filterwarnings('ignore')\n",
    "\n",
    "import matplotlib.pyplot as plt\n",
    "import seaborn as sns\n",
    "\n",
    "# 시각화 한글 지원\n",
    "from matplotlib import font_manager, rc\n",
    "font_path = \"C:/Windows/Fonts/malgun.ttf\" \n",
    "font = font_manager.FontProperties(fname=font_path).get_name()\n",
    "rc('font', family=font)\n",
    "\n",
    "# 상관계수\n",
    "from scipy import stats\n",
    "\n",
    "# model\n",
    "from sklearn.model_selection import train_test_split, GridSearchCV, KFold, cross_val_score\n",
    "from sklearn.linear_model import LinearRegression, Ridge, Lasso, ElasticNet\n",
    "from sklearn.ensemble import RandomForestRegressor, GradientBoostingRegressor\n",
    "from xgboost import XGBRegressor\n",
    "from lightgbm import LGBMRegressor\n",
    "from sklearn.tree import DecisionTreeRegressor, export_graphviz\n",
    "import graphviz\n",
    "import xgboost\n",
    "from sklearn.metrics import mean_squared_error\n",
    "from sklearn.preprocessing import PolynomialFeatures, MinMaxScaler, StandardScaler\n",
    "from sklearn.neural_network import MLPRegressor"
   ]
  },
  {
   "cell_type": "markdown",
   "id": "2a5dfbc6",
   "metadata": {},
   "source": [
    "# 1. 데이터 전처리"
   ]
  },
  {
   "cell_type": "code",
   "execution_count": 2,
   "id": "8f93feb2",
   "metadata": {},
   "outputs": [],
   "source": [
    "df = pd.read_csv('C:/Users/sja95/OneDrive/바탕 화면/dataset/건강검진2017.csv', encoding = 'euc-KR')\n",
    "\n",
    "df = df[['성별코드','연령대코드(5세단위)','신장(5Cm단위)','체중(5Kg단위)','허리둘레','흡연상태','음주여부','수축기혈압']]\n",
    "df.columns = ['sex','age','ht','wt','waist','smoking','alcohol','sbp']\n",
    "\n",
    "df = df.dropna(axis = 0)\n",
    "\n",
    "df['bmi'] = df['wt'] / ((df['ht']/100)**2)\n",
    "df['absi'] = (df['waist']*0.393701) /((df['bmi']**0.6666) * ((df['ht']/100)**0.5))\n",
    "df = df.round(decimals = 2)\n",
    "\n",
    "df.loc[(df.alcohol=='Y'),'alcohol'] = 1.0\n",
    "df.loc[(df.alcohol=='N'), 'alcohol'] = 0.0\n",
    "\n",
    "df['alcohol'] = df.alcohol.astype(float)\n",
    "\n",
    "df.drop(df.loc[(df['waist']>128.9)|(df['waist']<55.0)].index, inplace = True)\n",
    "df.drop(df.loc[(df['absi']>3.94)|(df['absi']<2.12)].index, inplace = True)\n",
    "\n"
   ]
  },
  {
   "cell_type": "markdown",
   "id": "4ef5ae9e",
   "metadata": {},
   "source": [
    "# 2. 모델링"
   ]
  },
  {
   "cell_type": "markdown",
   "id": "71ee64d0",
   "metadata": {},
   "source": [
    "## 1) Linear Regression"
   ]
  },
  {
   "cell_type": "code",
   "execution_count": 3,
   "id": "8e7e9cb1",
   "metadata": {},
   "outputs": [
    {
     "name": "stdout",
     "output_type": "stream",
     "text": [
      "rmse :  13.180674484424266\n"
     ]
    }
   ],
   "source": [
    "## 1. split\n",
    "\n",
    "X = df[['sex','age','ht','wt','bmi','absi','waist','smoking','alcohol']]\n",
    "y = df['sbp']\n",
    "\n",
    "X_train, X_test, y_train, y_test = train_test_split(X, y, test_size = 0.3, random_state = 2045)\n",
    "\n",
    "## 2. fit \n",
    "\n",
    "RA = LinearRegression()\n",
    "RA.fit(X_train, y_train)\n",
    "\n",
    "## 3. Predict\n",
    "\n",
    "y_hat = RA.predict(X_test)\n",
    "\n",
    "## 4. Root MSE \n",
    "\n",
    "rmse_LR = np.sqrt(mean_squared_error(y_test, y_hat))\n",
    "\n",
    "print('rmse : ', rmse_LR)"
   ]
  },
  {
   "cell_type": "markdown",
   "id": "453900b7",
   "metadata": {},
   "source": [
    "## 2) Polynomial Linear Regression_2차"
   ]
  },
  {
   "cell_type": "code",
   "execution_count": 4,
   "id": "4394d85f",
   "metadata": {},
   "outputs": [
    {
     "name": "stdout",
     "output_type": "stream",
     "text": [
      "rmse :  13.102767150411148\n"
     ]
    }
   ],
   "source": [
    "## 2. polynomialFeatures(degree=2)\n",
    "\n",
    "poly_train = PolynomialFeatures(degree=2).fit_transform(X_train)\n",
    "\n",
    "\n",
    "## 3. Linear Regression \n",
    "\n",
    "PLR = LinearRegression()\n",
    "PLR.fit(poly_train, y_train)\n",
    "\n",
    "## 4. Predict\n",
    "\n",
    "poly_test = PolynomialFeatures(degree=2).fit_transform(X_test)\n",
    "y_hat = PLR.predict(poly_test)\n",
    "\n",
    "## 5. RMSE\n",
    "\n",
    "rmse_PLR2 = np.sqrt(mean_squared_error(y_test, y_hat))\n",
    "\n",
    "print('rmse : ', rmse_PLR2) "
   ]
  },
  {
   "cell_type": "markdown",
   "id": "d7f952d0",
   "metadata": {},
   "source": [
    "## 3) Polynomial Linear Regression_3차"
   ]
  },
  {
   "cell_type": "code",
   "execution_count": 5,
   "id": "3ed66766",
   "metadata": {},
   "outputs": [
    {
     "name": "stdout",
     "output_type": "stream",
     "text": [
      "rmse :  13.084525158120368\n"
     ]
    }
   ],
   "source": [
    "## 2. polynomialFeatures(degree=3)\n",
    "\n",
    "poly_train = PolynomialFeatures(degree=3).fit_transform(X_train)\n",
    "\n",
    "\n",
    "## 3. Linear Regression \n",
    "\n",
    "PLR3 = LinearRegression()\n",
    "PLR3.fit(poly_train, y_train)\n",
    "\n",
    "## 4. Predict\n",
    "\n",
    "poly_test = PolynomialFeatures(degree=3).fit_transform(X_test)\n",
    "y_hat = PLR3.predict(poly_test)\n",
    "\n",
    "## 5. RMSE\n",
    "\n",
    "rmse_PLR3 = np.sqrt(mean_squared_error(y_test, y_hat))\n",
    "\n",
    "print('rmse : ', rmse_PLR3)  "
   ]
  },
  {
   "cell_type": "markdown",
   "id": "b13481a8",
   "metadata": {},
   "source": [
    "## 4) Ridge Regression"
   ]
  },
  {
   "cell_type": "code",
   "execution_count": 6,
   "id": "8cd3380e",
   "metadata": {},
   "outputs": [
    {
     "name": "stdout",
     "output_type": "stream",
     "text": [
      "rmse :  13.180674679138038\n"
     ]
    }
   ],
   "source": [
    "## 2. model define\n",
    "\n",
    "ridge = Ridge(alpha = 0.05)\n",
    "ridge.fit(X_train, y_train)\n",
    "y_hat = ridge.predict(X_test)\n",
    "\n",
    "rmse_ridge = np.sqrt(mean_squared_error(y_test, y_hat))\n",
    "\n",
    "print('rmse : ', rmse_ridge)  "
   ]
  },
  {
   "cell_type": "markdown",
   "id": "1a4b1c9a",
   "metadata": {},
   "source": [
    "## 5) Lasso Regression"
   ]
  },
  {
   "cell_type": "code",
   "execution_count": 10,
   "id": "7ae68726",
   "metadata": {},
   "outputs": [
    {
     "name": "stdout",
     "output_type": "stream",
     "text": [
      "rmse :  13.193374423098232\n"
     ]
    }
   ],
   "source": [
    "## 2. model define\n",
    "    \n",
    "lasso = Lasso(alpha = 0.05)\n",
    "lasso.fit(X_train, y_train)\n",
    "y_hat = lasso.predict(X_test)\n",
    "rmse_lasso = np.sqrt(mean_squared_error(y_test, y_hat))\n",
    "\n",
    "print('rmse : ', rmse_lasso) "
   ]
  },
  {
   "cell_type": "markdown",
   "id": "522cbac0",
   "metadata": {},
   "source": [
    "## 6) ElasticNet Regression "
   ]
  },
  {
   "cell_type": "code",
   "execution_count": 12,
   "id": "826342b7",
   "metadata": {},
   "outputs": [
    {
     "name": "stdout",
     "output_type": "stream",
     "text": [
      "rmse :  13.19419901720702\n"
     ]
    }
   ],
   "source": [
    "elastic = ElasticNet(alpha = 0.05, l1_ratio=0.7)\n",
    "elastic.fit(X_train, y_train)\n",
    "y_hat = elastic.predict(X_test)\n",
    "rmse_elasticNet = np.sqrt(mean_squared_error(y_test, y_hat))\n",
    "\n",
    "print('rmse : ', rmse_elasticNet) "
   ]
  },
  {
   "cell_type": "markdown",
   "id": "702566fd",
   "metadata": {},
   "source": [
    "## 7) Decision Tree"
   ]
  },
  {
   "cell_type": "code",
   "execution_count": 14,
   "id": "33fc8317",
   "metadata": {},
   "outputs": [
    {
     "name": "stdout",
     "output_type": "stream",
     "text": [
      "rmse :  13.131415582763735\n"
     ]
    }
   ],
   "source": [
    "## 2. fit \n",
    "\n",
    "dt = DecisionTreeRegressor(random_state = 2045, max_depth = 8  ,min_samples_split = 128)\n",
    "dt.fit(X_train, y_train)\n",
    "\n",
    "## 3. Predict\n",
    "\n",
    "y_hat = dt.predict(X_test)\n",
    "\n",
    "## 4. Root MSE \n",
    "\n",
    "rmse_dt = np.sqrt(mean_squared_error(y_test, y_hat))\n",
    "\n",
    "print('rmse : ', rmse_dt)\n"
   ]
  },
  {
   "cell_type": "markdown",
   "id": "2b5a6547",
   "metadata": {},
   "source": [
    "## 8) RandomForest"
   ]
  },
  {
   "cell_type": "code",
   "execution_count": 15,
   "id": "7a633d95",
   "metadata": {},
   "outputs": [
    {
     "name": "stdout",
     "output_type": "stream",
     "text": [
      "rmse :  13.09376838506824\n",
      "Wall time: 12.1 s\n"
     ]
    }
   ],
   "source": [
    "%%time\n",
    "\n",
    "## 2. fit \n",
    "\n",
    "rf = RandomForestRegressor(random_state = 2045, max_depth = 10  ,max_features = 4, n_jobs = -1, n_estimators = 100)\n",
    "rf.fit(X_train, y_train)\n",
    "\n",
    "## 3. Predict\n",
    "\n",
    "y_hat = rf.predict(X_test)\n",
    "\n",
    "## 4. Root MSE \n",
    "\n",
    "rmse_rf = np.sqrt(mean_squared_error(y_test, y_hat))\n",
    "\n",
    "print('rmse : ', rmse_rf)\n"
   ]
  },
  {
   "cell_type": "markdown",
   "id": "54d3bb3b",
   "metadata": {},
   "source": [
    "## 9) GradientBoosting Regression"
   ]
  },
  {
   "cell_type": "code",
   "execution_count": 16,
   "id": "6ffc6787",
   "metadata": {},
   "outputs": [
    {
     "name": "stdout",
     "output_type": "stream",
     "text": [
      "rmse :  13.08281016519785\n",
      "Wall time: 10min 11s\n"
     ]
    }
   ],
   "source": [
    "%%time\n",
    "\n",
    "## 2. fit \n",
    "\n",
    "gb = GradientBoostingRegressor(random_state = 2045, n_estimators = 1000, learning_rate = 0.03)\n",
    "gb.fit(X_train, y_train)\n",
    "\n",
    "## 3. Predict\n",
    "\n",
    "y_hat = gb.predict(X_test)\n",
    "\n",
    "## 4. Root MSE \n",
    "\n",
    "rmse_GBM = np.sqrt(mean_squared_error(y_test, y_hat))\n",
    "\n",
    "print('rmse : ', rmse_GBM)\n"
   ]
  },
  {
   "cell_type": "markdown",
   "id": "5a0f9f49",
   "metadata": {},
   "source": [
    "## 10) XGBoost_gbtree"
   ]
  },
  {
   "cell_type": "code",
   "execution_count": 17,
   "id": "26cce9c8",
   "metadata": {},
   "outputs": [
    {
     "name": "stdout",
     "output_type": "stream",
     "text": [
      "rmse :  13.09854121495063\n",
      "Wall time: 3min 50s\n"
     ]
    }
   ],
   "source": [
    "%%time\n",
    "\n",
    "## 2. fit \n",
    "\n",
    "xgb = XGBRegressor(random_state = 2045, \n",
    "                    n_estimators = 1000, \n",
    "                    learning_rate = 0.01,\n",
    "                   max_depth = 10)\n",
    "xgb.fit(X_train, y_train)\n",
    "\n",
    "## 3. Predict\n",
    "\n",
    "y_hat = xgb.predict(X_test)\n",
    "\n",
    "## 4. Root MSE \n",
    "\n",
    "rmse_XGBtree = np.sqrt(mean_squared_error(y_test, y_hat))\n",
    "\n",
    "print('rmse : ', rmse_XGBtree)\n"
   ]
  },
  {
   "cell_type": "markdown",
   "id": "94deac38",
   "metadata": {},
   "source": [
    "## 11) XGBoost_gblinear"
   ]
  },
  {
   "cell_type": "code",
   "execution_count": 18,
   "id": "78c23d39",
   "metadata": {},
   "outputs": [
    {
     "name": "stdout",
     "output_type": "stream",
     "text": [
      "rmse :  13.219262826996346\n",
      "Wall time: 28.3 s\n"
     ]
    }
   ],
   "source": [
    "%%time\n",
    "\n",
    "## 2. fit \n",
    "\n",
    "xgb = XGBRegressor(random_state = 2045,\n",
    "                   booster = 'gblinear',\n",
    "                    n_estimators = 2000, \n",
    "                    learning_rate = 0.2)\n",
    "xgb.fit(X_train, y_train)\n",
    "\n",
    "## 3. Predict\n",
    "\n",
    "y_hat = xgb.predict(X_test)\n",
    "\n",
    "## 4. Root MSE \n",
    "\n",
    "rmse_XGBlinear = np.sqrt(mean_squared_error(y_test, y_hat))\n",
    "\n",
    "print('rmse : ', rmse_XGBlinear)\n",
    "\n"
   ]
  },
  {
   "cell_type": "markdown",
   "id": "52459ea8",
   "metadata": {},
   "source": [
    "## 12) LGBM Regression "
   ]
  },
  {
   "cell_type": "code",
   "execution_count": 19,
   "id": "21df3d46",
   "metadata": {},
   "outputs": [
    {
     "name": "stdout",
     "output_type": "stream",
     "text": [
      "rmse :  13.07986710916365\n",
      "Wall time: 21.6 s\n"
     ]
    }
   ],
   "source": [
    "%%time\n",
    "\n",
    "## 2. fit \n",
    "\n",
    "lgb = LGBMRegressor(random_state = 2045,\n",
    "                    n_estimators = 2000, \n",
    "                    learning_rate = 0.01,\n",
    "                  max_depth = 12)\n",
    "lgb.fit(X_train, y_train)\n",
    "\n",
    "## 3. Predict\n",
    "\n",
    "y_hat = lgb.predict(X_test)\n",
    "\n",
    "## 4. Root MSE \n",
    "\n",
    "rmse_LGBM = np.sqrt(mean_squared_error(y_test, y_hat))\n",
    "\n",
    "print('rmse : ', rmse_LGBM)\n"
   ]
  },
  {
   "cell_type": "markdown",
   "id": "747b9eaa",
   "metadata": {},
   "source": [
    "## 13) MLP Regression "
   ]
  },
  {
   "cell_type": "code",
   "execution_count": 20,
   "id": "6bfc58f4",
   "metadata": {},
   "outputs": [
    {
     "name": "stdout",
     "output_type": "stream",
     "text": [
      "rmse :  13.158353430687178\n",
      "Wall time: 9min 58s\n"
     ]
    }
   ],
   "source": [
    "%%time \n",
    "\n",
    "## 2. model define & fit\n",
    "\n",
    "mlp = MLPRegressor(hidden_layer_sizes = (128,64,32), activation = 'relu', random_state = 2045,\n",
    "                  max_iter = 2000)\n",
    "mlp.fit(X_train, y_train)\n",
    "\n",
    "## 3. predicition\n",
    "\n",
    "y_hat = mlp.predict(X_test)\n",
    "\n",
    "## 4. RMSE, R2 score\n",
    "\n",
    "rmse_MLP1 = np.sqrt(mean_squared_error(y_test, y_hat))\n",
    "\n",
    "print('rmse : ', rmse_MLP1)\n"
   ]
  },
  {
   "cell_type": "code",
   "execution_count": 21,
   "id": "4fe547f3",
   "metadata": {},
   "outputs": [
    {
     "name": "stdout",
     "output_type": "stream",
     "text": [
      "rmse :  13.098600195160017\n",
      "Wall time: 22min 11s\n"
     ]
    }
   ],
   "source": [
    "%%time \n",
    "\n",
    "## 2. model define & fit\n",
    "\n",
    "mlp = MLPRegressor(hidden_layer_sizes = (128,128), activation = 'relu', random_state = 2045,\n",
    "                  max_iter = 1000)\n",
    "mlp.fit(X_train, y_train)\n",
    "\n",
    "## 3. predicition\n",
    "\n",
    "y_hat = mlp.predict(X_test)\n",
    "\n",
    "## 4. RMSE, R2 score\n",
    "\n",
    "rmse_MLP2 = np.sqrt(mean_squared_error(y_test, y_hat))\n",
    "\n",
    "print('rmse : ', rmse_MLP2)"
   ]
  },
  {
   "cell_type": "code",
   "execution_count": 22,
   "id": "3d4dcf1e",
   "metadata": {},
   "outputs": [
    {
     "name": "stdout",
     "output_type": "stream",
     "text": [
      "rmse :  13.094073504982909\n",
      "Wall time: 20min 59s\n"
     ]
    }
   ],
   "source": [
    "%%time \n",
    "\n",
    "## 2. model define & fit\n",
    "\n",
    "mlp = MLPRegressor(hidden_layer_sizes = (128,128,64), activation = 'relu', random_state = 2045,\n",
    "                  max_iter = 2000)\n",
    "mlp.fit(X_train, y_train)\n",
    "\n",
    "## 3. predicition\n",
    "\n",
    "y_hat = mlp.predict(X_test)\n",
    "\n",
    "## 4. RMSE, R2 score\n",
    "\n",
    "rmse_MLP2 = np.sqrt(mean_squared_error(y_test, y_hat))\n",
    "\n",
    "print('rmse : ', rmse_MLP2)"
   ]
  },
  {
   "cell_type": "markdown",
   "id": "29d9078b",
   "metadata": {},
   "source": [
    "# 3. 모델 Selection"
   ]
  },
  {
   "cell_type": "code",
   "execution_count": 45,
   "id": "a7ff546d",
   "metadata": {},
   "outputs": [
    {
     "data": {
      "image/png": "[encoded data removed]",
      "text/plain": [
       "<Figure size 432x288 with 1 Axes>"
      ]
     },
     "metadata": {
      "needs_background": "light"
     },
     "output_type": "display_data"
    }
   ],
   "source": [
    "name = ['LR','PLR2','PLR3','Ridge','Lasso','ElasticNet','DT','RF','GBM','XGBt','XGBl','LGBM','MLP2']\n",
    "rmses = [rmse_LR, rmse_PLR2, rmse_PLR3, rmse_ridge, rmse_lasso, rmse_elasticNet, \n",
    "        rmse_dt, rmse_rf, rmse_GBM, rmse_XGBtree, rmse_XGBlinear, rmse_LGBM, rmse_MLP2 ]\n",
    "\n",
    "\n",
    "plt.figsize = (20, 8)\n",
    "plt.plot(name, rmses, marker = 'o' , color = '#663399')\n",
    "plt.ylim(13.05,13.25)\n",
    "plt.xticks(rotation = 45)\n",
    "plt.xlabel('Model 종류')\n",
    "plt.ylabel('RMSE')\n",
    "plt.title('Model간의 RMSE 비교')\n",
    "plt.savefig('rmse_Models.png')\n",
    "plt.show()"
   ]
  },
  {
   "cell_type": "code",
   "execution_count": null,
   "id": "3d3848b2",
   "metadata": {},
   "outputs": [],
   "source": []
  }
 ],
 "metadata": {
  "kernelspec": {
   "display_name": "Python 3",
   "language": "python",
   "name": "python3"
  },
  "language_info": {
   "codemirror_mode": {
    "name": "ipython",
    "version": 3
   },
   "file_extension": ".py",
   "mimetype": "text/x-python",
   "name": "python",
   "nbconvert_exporter": "python",
   "pygments_lexer": "ipython3",
   "version": "3.8.8"
  }
 },
 "nbformat": 4,
 "nbformat_minor": 5
}
